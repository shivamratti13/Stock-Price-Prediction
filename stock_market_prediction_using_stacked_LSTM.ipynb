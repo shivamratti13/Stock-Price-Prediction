{
  "nbformat": 4,
  "nbformat_minor": 0,
  "metadata": {
    "colab": {
      "provenance": [],
      "gpuType": "T4"
    },
    "kernelspec": {
      "name": "python3",
      "display_name": "Python 3"
    },
    "language_info": {
      "name": "python"
    },
    "accelerator": "GPU"
  },
  "cells": [
    {
      "cell_type": "code",
      "source": [
        "import yfinance as yf\n",
        "import datetime as dt\n",
        "import matplotlib.pyplot as plt\n",
        "import numpy as np\n",
        "from sklearn.preprocessing import MinMaxScaler\n",
        "import pandas as pd"
      ],
      "metadata": {
        "id": "Yn9EyLG2Q29H"
      },
      "execution_count": 106,
      "outputs": []
    },
    {
      "cell_type": "code",
      "source": [
        "start = dt.datetime(2015, 1, 1)\n",
        "end = dt.datetime.now()"
      ],
      "metadata": {
        "id": "EwaoEiqLSjE4"
      },
      "execution_count": 62,
      "outputs": []
    },
    {
      "cell_type": "code",
      "source": [
        "stock_symbol = 'AAPL'\n",
        "df = yf.download(stock_symbol, start=start, end=end)\n",
        "df.tail(10)\n",
        "yesterday_date = df.index[-1].strftime('%Y-%m-%d')"
      ],
      "metadata": {
        "colab": {
          "base_uri": "https://localhost:8080/"
        },
        "id": "xhaYyRWWSeYs",
        "outputId": "01752ec3-4f49-4d38-ec47-a1d1e2370fa1"
      },
      "execution_count": 108,
      "outputs": [
        {
          "output_type": "stream",
          "name": "stderr",
          "text": [
            "\r[*********************100%***********************]  1 of 1 completed"
          ]
        },
        {
          "output_type": "stream",
          "name": "stdout",
          "text": [
            "Yesterday's date: 2024-10-15\n"
          ]
        },
        {
          "output_type": "stream",
          "name": "stderr",
          "text": [
            "\n"
          ]
        }
      ]
    },
    {
      "cell_type": "code",
      "source": [
        "df.shape"
      ],
      "metadata": {
        "colab": {
          "base_uri": "https://localhost:8080/"
        },
        "id": "La4tZaTCS9Xl",
        "outputId": "fd353d0e-a987-4396-f4b0-da8f20990c26"
      },
      "execution_count": 64,
      "outputs": [
        {
          "output_type": "execute_result",
          "data": {
            "text/plain": [
              "(2463, 6)"
            ]
          },
          "metadata": {},
          "execution_count": 64
        }
      ]
    },
    {
      "cell_type": "code",
      "source": [
        "df = df[['Close']]\n",
        "df.head()"
      ],
      "metadata": {
        "colab": {
          "base_uri": "https://localhost:8080/",
          "height": 237
        },
        "id": "unyb4n25Tg8b",
        "outputId": "bf08d9ba-f4a6-4dbc-fa21-54b71cd228d9"
      },
      "execution_count": 65,
      "outputs": [
        {
          "output_type": "execute_result",
          "data": {
            "text/plain": [
              "                Close\n",
              "Date                 \n",
              "2015-01-02  27.332500\n",
              "2015-01-05  26.562500\n",
              "2015-01-06  26.565001\n",
              "2015-01-07  26.937500\n",
              "2015-01-08  27.972500"
            ],
            "text/html": [
              "\n",
              "  <div id=\"df-71a59669-4ddc-413b-a408-6e1703a506c6\" class=\"colab-df-container\">\n",
              "    <div>\n",
              "<style scoped>\n",
              "    .dataframe tbody tr th:only-of-type {\n",
              "        vertical-align: middle;\n",
              "    }\n",
              "\n",
              "    .dataframe tbody tr th {\n",
              "        vertical-align: top;\n",
              "    }\n",
              "\n",
              "    .dataframe thead th {\n",
              "        text-align: right;\n",
              "    }\n",
              "</style>\n",
              "<table border=\"1\" class=\"dataframe\">\n",
              "  <thead>\n",
              "    <tr style=\"text-align: right;\">\n",
              "      <th></th>\n",
              "      <th>Close</th>\n",
              "    </tr>\n",
              "    <tr>\n",
              "      <th>Date</th>\n",
              "      <th></th>\n",
              "    </tr>\n",
              "  </thead>\n",
              "  <tbody>\n",
              "    <tr>\n",
              "      <th>2015-01-02</th>\n",
              "      <td>27.332500</td>\n",
              "    </tr>\n",
              "    <tr>\n",
              "      <th>2015-01-05</th>\n",
              "      <td>26.562500</td>\n",
              "    </tr>\n",
              "    <tr>\n",
              "      <th>2015-01-06</th>\n",
              "      <td>26.565001</td>\n",
              "    </tr>\n",
              "    <tr>\n",
              "      <th>2015-01-07</th>\n",
              "      <td>26.937500</td>\n",
              "    </tr>\n",
              "    <tr>\n",
              "      <th>2015-01-08</th>\n",
              "      <td>27.972500</td>\n",
              "    </tr>\n",
              "  </tbody>\n",
              "</table>\n",
              "</div>\n",
              "    <div class=\"colab-df-buttons\">\n",
              "\n",
              "  <div class=\"colab-df-container\">\n",
              "    <button class=\"colab-df-convert\" onclick=\"convertToInteractive('df-71a59669-4ddc-413b-a408-6e1703a506c6')\"\n",
              "            title=\"Convert this dataframe to an interactive table.\"\n",
              "            style=\"display:none;\">\n",
              "\n",
              "  <svg xmlns=\"http://www.w3.org/2000/svg\" height=\"24px\" viewBox=\"0 -960 960 960\">\n",
              "    <path d=\"M120-120v-720h720v720H120Zm60-500h600v-160H180v160Zm220 220h160v-160H400v160Zm0 220h160v-160H400v160ZM180-400h160v-160H180v160Zm440 0h160v-160H620v160ZM180-180h160v-160H180v160Zm440 0h160v-160H620v160Z\"/>\n",
              "  </svg>\n",
              "    </button>\n",
              "\n",
              "  <style>\n",
              "    .colab-df-container {\n",
              "      display:flex;\n",
              "      gap: 12px;\n",
              "    }\n",
              "\n",
              "    .colab-df-convert {\n",
              "      background-color: #E8F0FE;\n",
              "      border: none;\n",
              "      border-radius: 50%;\n",
              "      cursor: pointer;\n",
              "      display: none;\n",
              "      fill: #1967D2;\n",
              "      height: 32px;\n",
              "      padding: 0 0 0 0;\n",
              "      width: 32px;\n",
              "    }\n",
              "\n",
              "    .colab-df-convert:hover {\n",
              "      background-color: #E2EBFA;\n",
              "      box-shadow: 0px 1px 2px rgba(60, 64, 67, 0.3), 0px 1px 3px 1px rgba(60, 64, 67, 0.15);\n",
              "      fill: #174EA6;\n",
              "    }\n",
              "\n",
              "    .colab-df-buttons div {\n",
              "      margin-bottom: 4px;\n",
              "    }\n",
              "\n",
              "    [theme=dark] .colab-df-convert {\n",
              "      background-color: #3B4455;\n",
              "      fill: #D2E3FC;\n",
              "    }\n",
              "\n",
              "    [theme=dark] .colab-df-convert:hover {\n",
              "      background-color: #434B5C;\n",
              "      box-shadow: 0px 1px 3px 1px rgba(0, 0, 0, 0.15);\n",
              "      filter: drop-shadow(0px 1px 2px rgba(0, 0, 0, 0.3));\n",
              "      fill: #FFFFFF;\n",
              "    }\n",
              "  </style>\n",
              "\n",
              "    <script>\n",
              "      const buttonEl =\n",
              "        document.querySelector('#df-71a59669-4ddc-413b-a408-6e1703a506c6 button.colab-df-convert');\n",
              "      buttonEl.style.display =\n",
              "        google.colab.kernel.accessAllowed ? 'block' : 'none';\n",
              "\n",
              "      async function convertToInteractive(key) {\n",
              "        const element = document.querySelector('#df-71a59669-4ddc-413b-a408-6e1703a506c6');\n",
              "        const dataTable =\n",
              "          await google.colab.kernel.invokeFunction('convertToInteractive',\n",
              "                                                    [key], {});\n",
              "        if (!dataTable) return;\n",
              "\n",
              "        const docLinkHtml = 'Like what you see? Visit the ' +\n",
              "          '<a target=\"_blank\" href=https://colab.research.google.com/notebooks/data_table.ipynb>data table notebook</a>'\n",
              "          + ' to learn more about interactive tables.';\n",
              "        element.innerHTML = '';\n",
              "        dataTable['output_type'] = 'display_data';\n",
              "        await google.colab.output.renderOutput(dataTable, element);\n",
              "        const docLink = document.createElement('div');\n",
              "        docLink.innerHTML = docLinkHtml;\n",
              "        element.appendChild(docLink);\n",
              "      }\n",
              "    </script>\n",
              "  </div>\n",
              "\n",
              "\n",
              "<div id=\"df-604d2a90-ded0-4ad0-92cc-53be1c6404e1\">\n",
              "  <button class=\"colab-df-quickchart\" onclick=\"quickchart('df-604d2a90-ded0-4ad0-92cc-53be1c6404e1')\"\n",
              "            title=\"Suggest charts\"\n",
              "            style=\"display:none;\">\n",
              "\n",
              "<svg xmlns=\"http://www.w3.org/2000/svg\" height=\"24px\"viewBox=\"0 0 24 24\"\n",
              "     width=\"24px\">\n",
              "    <g>\n",
              "        <path d=\"M19 3H5c-1.1 0-2 .9-2 2v14c0 1.1.9 2 2 2h14c1.1 0 2-.9 2-2V5c0-1.1-.9-2-2-2zM9 17H7v-7h2v7zm4 0h-2V7h2v10zm4 0h-2v-4h2v4z\"/>\n",
              "    </g>\n",
              "</svg>\n",
              "  </button>\n",
              "\n",
              "<style>\n",
              "  .colab-df-quickchart {\n",
              "      --bg-color: #E8F0FE;\n",
              "      --fill-color: #1967D2;\n",
              "      --hover-bg-color: #E2EBFA;\n",
              "      --hover-fill-color: #174EA6;\n",
              "      --disabled-fill-color: #AAA;\n",
              "      --disabled-bg-color: #DDD;\n",
              "  }\n",
              "\n",
              "  [theme=dark] .colab-df-quickchart {\n",
              "      --bg-color: #3B4455;\n",
              "      --fill-color: #D2E3FC;\n",
              "      --hover-bg-color: #434B5C;\n",
              "      --hover-fill-color: #FFFFFF;\n",
              "      --disabled-bg-color: #3B4455;\n",
              "      --disabled-fill-color: #666;\n",
              "  }\n",
              "\n",
              "  .colab-df-quickchart {\n",
              "    background-color: var(--bg-color);\n",
              "    border: none;\n",
              "    border-radius: 50%;\n",
              "    cursor: pointer;\n",
              "    display: none;\n",
              "    fill: var(--fill-color);\n",
              "    height: 32px;\n",
              "    padding: 0;\n",
              "    width: 32px;\n",
              "  }\n",
              "\n",
              "  .colab-df-quickchart:hover {\n",
              "    background-color: var(--hover-bg-color);\n",
              "    box-shadow: 0 1px 2px rgba(60, 64, 67, 0.3), 0 1px 3px 1px rgba(60, 64, 67, 0.15);\n",
              "    fill: var(--button-hover-fill-color);\n",
              "  }\n",
              "\n",
              "  .colab-df-quickchart-complete:disabled,\n",
              "  .colab-df-quickchart-complete:disabled:hover {\n",
              "    background-color: var(--disabled-bg-color);\n",
              "    fill: var(--disabled-fill-color);\n",
              "    box-shadow: none;\n",
              "  }\n",
              "\n",
              "  .colab-df-spinner {\n",
              "    border: 2px solid var(--fill-color);\n",
              "    border-color: transparent;\n",
              "    border-bottom-color: var(--fill-color);\n",
              "    animation:\n",
              "      spin 1s steps(1) infinite;\n",
              "  }\n",
              "\n",
              "  @keyframes spin {\n",
              "    0% {\n",
              "      border-color: transparent;\n",
              "      border-bottom-color: var(--fill-color);\n",
              "      border-left-color: var(--fill-color);\n",
              "    }\n",
              "    20% {\n",
              "      border-color: transparent;\n",
              "      border-left-color: var(--fill-color);\n",
              "      border-top-color: var(--fill-color);\n",
              "    }\n",
              "    30% {\n",
              "      border-color: transparent;\n",
              "      border-left-color: var(--fill-color);\n",
              "      border-top-color: var(--fill-color);\n",
              "      border-right-color: var(--fill-color);\n",
              "    }\n",
              "    40% {\n",
              "      border-color: transparent;\n",
              "      border-right-color: var(--fill-color);\n",
              "      border-top-color: var(--fill-color);\n",
              "    }\n",
              "    60% {\n",
              "      border-color: transparent;\n",
              "      border-right-color: var(--fill-color);\n",
              "    }\n",
              "    80% {\n",
              "      border-color: transparent;\n",
              "      border-right-color: var(--fill-color);\n",
              "      border-bottom-color: var(--fill-color);\n",
              "    }\n",
              "    90% {\n",
              "      border-color: transparent;\n",
              "      border-bottom-color: var(--fill-color);\n",
              "    }\n",
              "  }\n",
              "</style>\n",
              "\n",
              "  <script>\n",
              "    async function quickchart(key) {\n",
              "      const quickchartButtonEl =\n",
              "        document.querySelector('#' + key + ' button');\n",
              "      quickchartButtonEl.disabled = true;  // To prevent multiple clicks.\n",
              "      quickchartButtonEl.classList.add('colab-df-spinner');\n",
              "      try {\n",
              "        const charts = await google.colab.kernel.invokeFunction(\n",
              "            'suggestCharts', [key], {});\n",
              "      } catch (error) {\n",
              "        console.error('Error during call to suggestCharts:', error);\n",
              "      }\n",
              "      quickchartButtonEl.classList.remove('colab-df-spinner');\n",
              "      quickchartButtonEl.classList.add('colab-df-quickchart-complete');\n",
              "    }\n",
              "    (() => {\n",
              "      let quickchartButtonEl =\n",
              "        document.querySelector('#df-604d2a90-ded0-4ad0-92cc-53be1c6404e1 button');\n",
              "      quickchartButtonEl.style.display =\n",
              "        google.colab.kernel.accessAllowed ? 'block' : 'none';\n",
              "    })();\n",
              "  </script>\n",
              "</div>\n",
              "\n",
              "    </div>\n",
              "  </div>\n"
            ],
            "application/vnd.google.colaboratory.intrinsic+json": {
              "type": "dataframe",
              "variable_name": "df",
              "summary": "{\n  \"name\": \"df\",\n  \"rows\": 2463,\n  \"fields\": [\n    {\n      \"column\": \"Date\",\n      \"properties\": {\n        \"dtype\": \"date\",\n        \"min\": \"2015-01-02 00:00:00\",\n        \"max\": \"2024-10-15 00:00:00\",\n        \"num_unique_values\": 2463,\n        \"samples\": [\n          \"2023-01-17 00:00:00\",\n          \"2024-05-01 00:00:00\",\n          \"2021-05-11 00:00:00\"\n        ],\n        \"semantic_type\": \"\",\n        \"description\": \"\"\n      }\n    },\n    {\n      \"column\": \"Close\",\n      \"properties\": {\n        \"dtype\": \"number\",\n        \"std\": 62.536025708274806,\n        \"min\": 22.584999084472656,\n        \"max\": 237.36599731445312,\n        \"num_unique_values\": 2332,\n        \"samples\": [\n          38.1349983215332,\n          176.57000732421875,\n          207.14999389648438\n        ],\n        \"semantic_type\": \"\",\n        \"description\": \"\"\n      }\n    }\n  ]\n}"
            }
          },
          "metadata": {},
          "execution_count": 65
        }
      ]
    },
    {
      "cell_type": "code",
      "source": [
        "df.shape"
      ],
      "metadata": {
        "colab": {
          "base_uri": "https://localhost:8080/"
        },
        "id": "-ETVS6YnTk9o",
        "outputId": "9e73eb66-4788-421d-e2c9-745ada5cd2ed"
      },
      "execution_count": 66,
      "outputs": [
        {
          "output_type": "execute_result",
          "data": {
            "text/plain": [
              "(2463, 1)"
            ]
          },
          "metadata": {},
          "execution_count": 66
        }
      ]
    },
    {
      "cell_type": "code",
      "source": [
        "plt.plot(df)"
      ],
      "metadata": {
        "colab": {
          "base_uri": "https://localhost:8080/",
          "height": 447
        },
        "id": "ZVPF6xbhT2DQ",
        "outputId": "c5c9184c-8cad-4a6e-c337-827a882ecc7a"
      },
      "execution_count": 67,
      "outputs": [
        {
          "output_type": "execute_result",
          "data": {
            "text/plain": [
              "[<matplotlib.lines.Line2D at 0x7ea9588567d0>]"
            ]
          },
          "metadata": {},
          "execution_count": 67
        },
        {
          "output_type": "display_data",
          "data": {
            "text/plain": [
              "<Figure size 640x480 with 1 Axes>"
            ],
            "image/png": "[encoded data removed]"
          },
          "metadata": {}
        }
      ]
    },
    {
      "cell_type": "code",
      "source": [
        "scaler = MinMaxScaler(feature_range=(0, 1))\n",
        "df = scaler.fit_transform(np.array(df).reshape(-1, 1))"
      ],
      "metadata": {
        "id": "N03MhpumUDSS"
      },
      "execution_count": 68,
      "outputs": []
    },
    {
      "cell_type": "code",
      "source": [
        "df"
      ],
      "metadata": {
        "colab": {
          "base_uri": "https://localhost:8080/"
        },
        "id": "dyRSofitUoPc",
        "outputId": "27fd72d7-74a8-42d6-c63f-428c158610a0"
      },
      "execution_count": 69,
      "outputs": [
        {
          "output_type": "execute_result",
          "data": {
            "text/plain": [
              "array([[0.02210392],\n",
              "       [0.01851887],\n",
              "       [0.01853051],\n",
              "       ...,\n",
              "       [0.95429766],\n",
              "       [0.9717573 ],\n",
              "       [1.        ]])"
            ]
          },
          "metadata": {},
          "execution_count": 69
        }
      ]
    },
    {
      "cell_type": "markdown",
      "source": [
        "# Train Test Split"
      ],
      "metadata": {
        "id": "YHug7kmgUwkg"
      }
    },
    {
      "cell_type": "code",
      "source": [
        "# incase of timeseries data we should split on the basis of dates (continious)\n",
        "training_size = int(len(df)*0.65)\n",
        "test_size = len(df) - training_size\n",
        "train_data, test_data = df[0:training_size, :], df[training_size:len(df), :]"
      ],
      "metadata": {
        "id": "LSICF72pUsg7"
      },
      "execution_count": 70,
      "outputs": []
    },
    {
      "cell_type": "code",
      "source": [
        "print(train_data.shape)\n",
        "print(test_data.shape)"
      ],
      "metadata": {
        "colab": {
          "base_uri": "https://localhost:8080/"
        },
        "id": "FaAp69qBVUak",
        "outputId": "e090c3d0-caa7-4681-d87d-6a16a049b677"
      },
      "execution_count": 71,
      "outputs": [
        {
          "output_type": "stream",
          "name": "stdout",
          "text": [
            "(1600, 1)\n",
            "(863, 1)\n"
          ]
        }
      ]
    },
    {
      "cell_type": "code",
      "source": [
        "# timesteps = 3\n",
        "# f1  f2  f3  y(o/p)\n",
        "# x1  x2  x2   y1                           output depends on previous 3 values\n"
      ],
      "metadata": {
        "id": "E2limNoCVmBP"
      },
      "execution_count": 72,
      "outputs": []
    },
    {
      "cell_type": "code",
      "source": [
        "def createdataset(dataset, timestep=1):\n",
        "  dataX,dataY = [],[]\n",
        "  for i in range(len(dataset)-timestep):\n",
        "    a = dataset[i:(i+timestep), 0]\n",
        "    dataX.append(a)\n",
        "    dataY.append(dataset[i+timestep, 0])\n",
        "  return np.array(dataX), np.array(dataY)"
      ],
      "metadata": {
        "id": "k9USfKpbiLES"
      },
      "execution_count": 73,
      "outputs": []
    },
    {
      "cell_type": "code",
      "source": [
        "timestep = 100\n",
        "Xtrain, ytrain = createdataset(train_data, timestep)\n",
        "Xtest, ytest = createdataset(test_data, timestep)"
      ],
      "metadata": {
        "id": "6IK8NY_ajO-N"
      },
      "execution_count": 74,
      "outputs": []
    },
    {
      "cell_type": "code",
      "source": [
        "print(Xtrain.shape),print(ytrain.shape)\n",
        "print(Xtest.shape),print(ytest.shape)"
      ],
      "metadata": {
        "colab": {
          "base_uri": "https://localhost:8080/"
        },
        "id": "ToQhp6uljYjl",
        "outputId": "d3484cc3-eab5-46c6-a1ab-025b0246795f"
      },
      "execution_count": 75,
      "outputs": [
        {
          "output_type": "stream",
          "name": "stdout",
          "text": [
            "(1500, 100)\n",
            "(1500,)\n",
            "(763, 100)\n",
            "(763,)\n"
          ]
        },
        {
          "output_type": "execute_result",
          "data": {
            "text/plain": [
              "(None, None)"
            ]
          },
          "metadata": {},
          "execution_count": 75
        }
      ]
    },
    {
      "cell_type": "markdown",
      "source": [
        "# Creating a Stacked LSTM"
      ],
      "metadata": {
        "id": "nFeVnA4xjpEE"
      }
    },
    {
      "cell_type": "code",
      "source": [
        "Xtrain = np.reshape(Xtrain, (Xtrain.shape[0], Xtrain.shape[1], 1))\n",
        "Xtest = np.reshape(Xtest, (Xtest.shape[0], Xtest.shape[1], 1))"
      ],
      "metadata": {
        "id": "zWbSzFezjgA3"
      },
      "execution_count": 76,
      "outputs": []
    },
    {
      "cell_type": "code",
      "source": [
        "import tensorflow as tf\n",
        "from tensorflow.keras.models import Sequential\n",
        "from tensorflow.keras.layers import Dense, LSTM"
      ],
      "metadata": {
        "id": "ENu4fOVIk12g"
      },
      "execution_count": 77,
      "outputs": []
    },
    {
      "cell_type": "code",
      "source": [
        "model=Sequential()\n",
        "model.add(LSTM(50, return_sequences=True, input_shape=(100, 1)))\n",
        "model.add(LSTM(50, return_sequences=True))\n",
        "model.add(LSTM(50))\n",
        "model.add(Dense(1))\n",
        "model.compile(loss='mean_squared_error', optimizer='adam')"
      ],
      "metadata": {
        "colab": {
          "base_uri": "https://localhost:8080/"
        },
        "id": "4DHIQZm3kLy1",
        "outputId": "749a6890-dc12-4d16-e2e3-f06347b62fd1"
      },
      "execution_count": 78,
      "outputs": [
        {
          "output_type": "stream",
          "name": "stderr",
          "text": [
            "/usr/local/lib/python3.10/dist-packages/keras/src/layers/rnn/rnn.py:204: UserWarning: Do not pass an `input_shape`/`input_dim` argument to a layer. When using Sequential models, prefer using an `Input(shape)` object as the first layer in the model instead.\n",
            "  super().__init__(**kwargs)\n"
          ]
        }
      ]
    },
    {
      "cell_type": "code",
      "source": [
        "model.summary()"
      ],
      "metadata": {
        "colab": {
          "base_uri": "https://localhost:8080/",
          "height": 274
        },
        "id": "FBMEAQpuktuL",
        "outputId": "a5caa4f2-57b6-48ba-dfe3-3c95efcd9d49"
      },
      "execution_count": 79,
      "outputs": [
        {
          "output_type": "display_data",
          "data": {
            "text/plain": [
              "\u001b[1mModel: \"sequential_1\"\u001b[0m\n"
            ],
            "text/html": [
              "<pre style=\"white-space:pre;overflow-x:auto;line-height:normal;font-family:Menlo,'DejaVu Sans Mono',consolas,'Courier New',monospace\"><span style=\"font-weight: bold\">Model: \"sequential_1\"</span>\n",
              "</pre>\n"
            ]
          },
          "metadata": {}
        },
        {
          "output_type": "display_data",
          "data": {
            "text/plain": [
              "┏━━━━━━━━━━━━━━━━━━━━━━━━━━━━━━━━━━━━━━┳━━━━━━━━━━━━━━━━━━━━━━━━━━━━━┳━━━━━━━━━━━━━━━━━┓\n",
              "┃\u001b[1m \u001b[0m\u001b[1mLayer (type)                        \u001b[0m\u001b[1m \u001b[0m┃\u001b[1m \u001b[0m\u001b[1mOutput Shape               \u001b[0m\u001b[1m \u001b[0m┃\u001b[1m \u001b[0m\u001b[1m        Param #\u001b[0m\u001b[1m \u001b[0m┃\n",
              "┡━━━━━━━━━━━━━━━━━━━━━━━━━━━━━━━━━━━━━━╇━━━━━━━━━━━━━━━━━━━━━━━━━━━━━╇━━━━━━━━━━━━━━━━━┩\n",
              "│ lstm_3 (\u001b[38;5;33mLSTM\u001b[0m)                        │ (\u001b[38;5;45mNone\u001b[0m, \u001b[38;5;34m100\u001b[0m, \u001b[38;5;34m50\u001b[0m)             │          \u001b[38;5;34m10,400\u001b[0m │\n",
              "├──────────────────────────────────────┼─────────────────────────────┼─────────────────┤\n",
              "│ lstm_4 (\u001b[38;5;33mLSTM\u001b[0m)                        │ (\u001b[38;5;45mNone\u001b[0m, \u001b[38;5;34m100\u001b[0m, \u001b[38;5;34m50\u001b[0m)             │          \u001b[38;5;34m20,200\u001b[0m │\n",
              "├──────────────────────────────────────┼─────────────────────────────┼─────────────────┤\n",
              "│ lstm_5 (\u001b[38;5;33mLSTM\u001b[0m)                        │ (\u001b[38;5;45mNone\u001b[0m, \u001b[38;5;34m50\u001b[0m)                  │          \u001b[38;5;34m20,200\u001b[0m │\n",
              "├──────────────────────────────────────┼─────────────────────────────┼─────────────────┤\n",
              "│ dense_1 (\u001b[38;5;33mDense\u001b[0m)                      │ (\u001b[38;5;45mNone\u001b[0m, \u001b[38;5;34m1\u001b[0m)                   │              \u001b[38;5;34m51\u001b[0m │\n",
              "└──────────────────────────────────────┴─────────────────────────────┴─────────────────┘\n"
            ],
            "text/html": [
              "<pre style=\"white-space:pre;overflow-x:auto;line-height:normal;font-family:Menlo,'DejaVu Sans Mono',consolas,'Courier New',monospace\">┏━━━━━━━━━━━━━━━━━━━━━━━━━━━━━━━━━━━━━━┳━━━━━━━━━━━━━━━━━━━━━━━━━━━━━┳━━━━━━━━━━━━━━━━━┓\n",
              "┃<span style=\"font-weight: bold\"> Layer (type)                         </span>┃<span style=\"font-weight: bold\"> Output Shape                </span>┃<span style=\"font-weight: bold\">         Param # </span>┃\n",
              "┡━━━━━━━━━━━━━━━━━━━━━━━━━━━━━━━━━━━━━━╇━━━━━━━━━━━━━━━━━━━━━━━━━━━━━╇━━━━━━━━━━━━━━━━━┩\n",
              "│ lstm_3 (<span style=\"color: #0087ff; text-decoration-color: #0087ff\">LSTM</span>)                        │ (<span style=\"color: #00d7ff; text-decoration-color: #00d7ff\">None</span>, <span style=\"color: #00af00; text-decoration-color: #00af00\">100</span>, <span style=\"color: #00af00; text-decoration-color: #00af00\">50</span>)             │          <span style=\"color: #00af00; text-decoration-color: #00af00\">10,400</span> │\n",
              "├──────────────────────────────────────┼─────────────────────────────┼─────────────────┤\n",
              "│ lstm_4 (<span style=\"color: #0087ff; text-decoration-color: #0087ff\">LSTM</span>)                        │ (<span style=\"color: #00d7ff; text-decoration-color: #00d7ff\">None</span>, <span style=\"color: #00af00; text-decoration-color: #00af00\">100</span>, <span style=\"color: #00af00; text-decoration-color: #00af00\">50</span>)             │          <span style=\"color: #00af00; text-decoration-color: #00af00\">20,200</span> │\n",
              "├──────────────────────────────────────┼─────────────────────────────┼─────────────────┤\n",
              "│ lstm_5 (<span style=\"color: #0087ff; text-decoration-color: #0087ff\">LSTM</span>)                        │ (<span style=\"color: #00d7ff; text-decoration-color: #00d7ff\">None</span>, <span style=\"color: #00af00; text-decoration-color: #00af00\">50</span>)                  │          <span style=\"color: #00af00; text-decoration-color: #00af00\">20,200</span> │\n",
              "├──────────────────────────────────────┼─────────────────────────────┼─────────────────┤\n",
              "│ dense_1 (<span style=\"color: #0087ff; text-decoration-color: #0087ff\">Dense</span>)                      │ (<span style=\"color: #00d7ff; text-decoration-color: #00d7ff\">None</span>, <span style=\"color: #00af00; text-decoration-color: #00af00\">1</span>)                   │              <span style=\"color: #00af00; text-decoration-color: #00af00\">51</span> │\n",
              "└──────────────────────────────────────┴─────────────────────────────┴─────────────────┘\n",
              "</pre>\n"
            ]
          },
          "metadata": {}
        },
        {
          "output_type": "display_data",
          "data": {
            "text/plain": [
              "\u001b[1m Total params: \u001b[0m\u001b[38;5;34m50,851\u001b[0m (198.64 KB)\n"
            ],
            "text/html": [
              "<pre style=\"white-space:pre;overflow-x:auto;line-height:normal;font-family:Menlo,'DejaVu Sans Mono',consolas,'Courier New',monospace\"><span style=\"font-weight: bold\"> Total params: </span><span style=\"color: #00af00; text-decoration-color: #00af00\">50,851</span> (198.64 KB)\n",
              "</pre>\n"
            ]
          },
          "metadata": {}
        },
        {
          "output_type": "display_data",
          "data": {
            "text/plain": [
              "\u001b[1m Trainable params: \u001b[0m\u001b[38;5;34m50,851\u001b[0m (198.64 KB)\n"
            ],
            "text/html": [
              "<pre style=\"white-space:pre;overflow-x:auto;line-height:normal;font-family:Menlo,'DejaVu Sans Mono',consolas,'Courier New',monospace\"><span style=\"font-weight: bold\"> Trainable params: </span><span style=\"color: #00af00; text-decoration-color: #00af00\">50,851</span> (198.64 KB)\n",
              "</pre>\n"
            ]
          },
          "metadata": {}
        },
        {
          "output_type": "display_data",
          "data": {
            "text/plain": [
              "\u001b[1m Non-trainable params: \u001b[0m\u001b[38;5;34m0\u001b[0m (0.00 B)\n"
            ],
            "text/html": [
              "<pre style=\"white-space:pre;overflow-x:auto;line-height:normal;font-family:Menlo,'DejaVu Sans Mono',consolas,'Courier New',monospace\"><span style=\"font-weight: bold\"> Non-trainable params: </span><span style=\"color: #00af00; text-decoration-color: #00af00\">0</span> (0.00 B)\n",
              "</pre>\n"
            ]
          },
          "metadata": {}
        }
      ]
    },
    {
      "cell_type": "code",
      "source": [
        "model.fit(Xtrain, ytrain, validation_data=(Xtest, ytest), epochs=100, batch_size=64, verbose=1)"
      ],
      "metadata": {
        "colab": {
          "base_uri": "https://localhost:8080/"
        },
        "id": "kDYdSB-LlnMJ",
        "outputId": "af88adfd-131e-4552-f081-1b03b13ab150"
      },
      "execution_count": 80,
      "outputs": [
        {
          "output_type": "stream",
          "name": "stdout",
          "text": [
            "Epoch 1/100\n",
            "\u001b[1m24/24\u001b[0m \u001b[32m━━━━━━━━━━━━━━━━━━━━\u001b[0m\u001b[37m\u001b[0m \u001b[1m3s\u001b[0m 38ms/step - loss: 0.0163 - val_loss: 0.0019\n",
            "Epoch 2/100\n",
            "\u001b[1m24/24\u001b[0m \u001b[32m━━━━━━━━━━━━━━━━━━━━\u001b[0m\u001b[37m\u001b[0m \u001b[1m1s\u001b[0m 16ms/step - loss: 6.4338e-04 - val_loss: 0.0024\n",
            "Epoch 3/100\n",
            "\u001b[1m24/24\u001b[0m \u001b[32m━━━━━━━━━━━━━━━━━━━━\u001b[0m\u001b[37m\u001b[0m \u001b[1m1s\u001b[0m 16ms/step - loss: 3.3961e-04 - val_loss: 0.0018\n",
            "Epoch 4/100\n",
            "\u001b[1m24/24\u001b[0m \u001b[32m━━━━━━━━━━━━━━━━━━━━\u001b[0m\u001b[37m\u001b[0m \u001b[1m0s\u001b[0m 15ms/step - loss: 3.0609e-04 - val_loss: 0.0021\n",
            "Epoch 5/100\n",
            "\u001b[1m24/24\u001b[0m \u001b[32m━━━━━━━━━━━━━━━━━━━━\u001b[0m\u001b[37m\u001b[0m \u001b[1m1s\u001b[0m 16ms/step - loss: 2.8243e-04 - val_loss: 0.0019\n",
            "Epoch 6/100\n",
            "\u001b[1m24/24\u001b[0m \u001b[32m━━━━━━━━━━━━━━━━━━━━\u001b[0m\u001b[37m\u001b[0m \u001b[1m1s\u001b[0m 15ms/step - loss: 2.9969e-04 - val_loss: 0.0026\n",
            "Epoch 7/100\n",
            "\u001b[1m24/24\u001b[0m \u001b[32m━━━━━━━━━━━━━━━━━━━━\u001b[0m\u001b[37m\u001b[0m \u001b[1m1s\u001b[0m 17ms/step - loss: 2.8443e-04 - val_loss: 0.0042\n",
            "Epoch 8/100\n",
            "\u001b[1m24/24\u001b[0m \u001b[32m━━━━━━━━━━━━━━━━━━━━\u001b[0m\u001b[37m\u001b[0m \u001b[1m0s\u001b[0m 16ms/step - loss: 2.7290e-04 - val_loss: 0.0034\n",
            "Epoch 9/100\n",
            "\u001b[1m24/24\u001b[0m \u001b[32m━━━━━━━━━━━━━━━━━━━━\u001b[0m\u001b[37m\u001b[0m \u001b[1m1s\u001b[0m 15ms/step - loss: 2.3900e-04 - val_loss: 0.0039\n",
            "Epoch 10/100\n",
            "\u001b[1m24/24\u001b[0m \u001b[32m━━━━━━━━━━━━━━━━━━━━\u001b[0m\u001b[37m\u001b[0m \u001b[1m1s\u001b[0m 16ms/step - loss: 2.7029e-04 - val_loss: 0.0021\n",
            "Epoch 11/100\n",
            "\u001b[1m24/24\u001b[0m \u001b[32m━━━━━━━━━━━━━━━━━━━━\u001b[0m\u001b[37m\u001b[0m \u001b[1m0s\u001b[0m 17ms/step - loss: 2.4145e-04 - val_loss: 0.0031\n",
            "Epoch 12/100\n",
            "\u001b[1m24/24\u001b[0m \u001b[32m━━━━━━━━━━━━━━━━━━━━\u001b[0m\u001b[37m\u001b[0m \u001b[1m0s\u001b[0m 15ms/step - loss: 2.4616e-04 - val_loss: 0.0022\n",
            "Epoch 13/100\n",
            "\u001b[1m24/24\u001b[0m \u001b[32m━━━━━━━━━━━━━━━━━━━━\u001b[0m\u001b[37m\u001b[0m \u001b[1m1s\u001b[0m 16ms/step - loss: 2.0715e-04 - val_loss: 0.0017\n",
            "Epoch 14/100\n",
            "\u001b[1m24/24\u001b[0m \u001b[32m━━━━━━━━━━━━━━━━━━━━\u001b[0m\u001b[37m\u001b[0m \u001b[1m1s\u001b[0m 15ms/step - loss: 1.9261e-04 - val_loss: 0.0025\n",
            "Epoch 15/100\n",
            "\u001b[1m24/24\u001b[0m \u001b[32m━━━━━━━━━━━━━━━━━━━━\u001b[0m\u001b[37m\u001b[0m \u001b[1m0s\u001b[0m 16ms/step - loss: 2.0188e-04 - val_loss: 0.0016\n",
            "Epoch 16/100\n",
            "\u001b[1m24/24\u001b[0m \u001b[32m━━━━━━━━━━━━━━━━━━━━\u001b[0m\u001b[37m\u001b[0m \u001b[1m1s\u001b[0m 22ms/step - loss: 2.0311e-04 - val_loss: 0.0034\n",
            "Epoch 17/100\n",
            "\u001b[1m24/24\u001b[0m \u001b[32m━━━━━━━━━━━━━━━━━━━━\u001b[0m\u001b[37m\u001b[0m \u001b[1m1s\u001b[0m 22ms/step - loss: 1.7472e-04 - val_loss: 0.0016\n",
            "Epoch 18/100\n",
            "\u001b[1m24/24\u001b[0m \u001b[32m━━━━━━━━━━━━━━━━━━━━\u001b[0m\u001b[37m\u001b[0m \u001b[1m1s\u001b[0m 23ms/step - loss: 2.1712e-04 - val_loss: 0.0015\n",
            "Epoch 19/100\n",
            "\u001b[1m24/24\u001b[0m \u001b[32m━━━━━━━━━━━━━━━━━━━━\u001b[0m\u001b[37m\u001b[0m \u001b[1m1s\u001b[0m 24ms/step - loss: 2.2308e-04 - val_loss: 0.0016\n",
            "Epoch 20/100\n",
            "\u001b[1m24/24\u001b[0m \u001b[32m━━━━━━━━━━━━━━━━━━━━\u001b[0m\u001b[37m\u001b[0m \u001b[1m1s\u001b[0m 20ms/step - loss: 1.9449e-04 - val_loss: 0.0011\n",
            "Epoch 21/100\n",
            "\u001b[1m24/24\u001b[0m \u001b[32m━━━━━━━━━━━━━━━━━━━━\u001b[0m\u001b[37m\u001b[0m \u001b[1m1s\u001b[0m 16ms/step - loss: 2.1649e-04 - val_loss: 0.0018\n",
            "Epoch 22/100\n",
            "\u001b[1m24/24\u001b[0m \u001b[32m━━━━━━━━━━━━━━━━━━━━\u001b[0m\u001b[37m\u001b[0m \u001b[1m0s\u001b[0m 15ms/step - loss: 1.5423e-04 - val_loss: 0.0034\n",
            "Epoch 23/100\n",
            "\u001b[1m24/24\u001b[0m \u001b[32m━━━━━━━━━━━━━━━━━━━━\u001b[0m\u001b[37m\u001b[0m \u001b[1m1s\u001b[0m 17ms/step - loss: 2.0744e-04 - val_loss: 0.0013\n",
            "Epoch 24/100\n",
            "\u001b[1m24/24\u001b[0m \u001b[32m━━━━━━━━━━━━━━━━━━━━\u001b[0m\u001b[37m\u001b[0m \u001b[1m0s\u001b[0m 15ms/step - loss: 1.4908e-04 - val_loss: 0.0051\n",
            "Epoch 25/100\n",
            "\u001b[1m24/24\u001b[0m \u001b[32m━━━━━━━━━━━━━━━━━━━━\u001b[0m\u001b[37m\u001b[0m \u001b[1m0s\u001b[0m 16ms/step - loss: 2.2341e-04 - val_loss: 0.0028\n",
            "Epoch 26/100\n",
            "\u001b[1m24/24\u001b[0m \u001b[32m━━━━━━━━━━━━━━━━━━━━\u001b[0m\u001b[37m\u001b[0m \u001b[1m0s\u001b[0m 16ms/step - loss: 1.5207e-04 - val_loss: 0.0011\n",
            "Epoch 27/100\n",
            "\u001b[1m24/24\u001b[0m \u001b[32m━━━━━━━━━━━━━━━━━━━━\u001b[0m\u001b[37m\u001b[0m \u001b[1m0s\u001b[0m 15ms/step - loss: 1.5586e-04 - val_loss: 0.0015\n",
            "Epoch 28/100\n",
            "\u001b[1m24/24\u001b[0m \u001b[32m━━━━━━━━━━━━━━━━━━━━\u001b[0m\u001b[37m\u001b[0m \u001b[1m1s\u001b[0m 16ms/step - loss: 1.4561e-04 - val_loss: 0.0021\n",
            "Epoch 29/100\n",
            "\u001b[1m24/24\u001b[0m \u001b[32m━━━━━━━━━━━━━━━━━━━━\u001b[0m\u001b[37m\u001b[0m \u001b[1m0s\u001b[0m 15ms/step - loss: 1.6233e-04 - val_loss: 0.0014\n",
            "Epoch 30/100\n",
            "\u001b[1m24/24\u001b[0m \u001b[32m━━━━━━━━━━━━━━━━━━━━\u001b[0m\u001b[37m\u001b[0m \u001b[1m0s\u001b[0m 16ms/step - loss: 1.5039e-04 - val_loss: 0.0017\n",
            "Epoch 31/100\n",
            "\u001b[1m24/24\u001b[0m \u001b[32m━━━━━━━━━━━━━━━━━━━━\u001b[0m\u001b[37m\u001b[0m \u001b[1m1s\u001b[0m 16ms/step - loss: 1.4265e-04 - val_loss: 0.0035\n",
            "Epoch 32/100\n",
            "\u001b[1m24/24\u001b[0m \u001b[32m━━━━━━━━━━━━━━━━━━━━\u001b[0m\u001b[37m\u001b[0m \u001b[1m0s\u001b[0m 16ms/step - loss: 1.8431e-04 - val_loss: 0.0012\n",
            "Epoch 33/100\n",
            "\u001b[1m24/24\u001b[0m \u001b[32m━━━━━━━━━━━━━━━━━━━━\u001b[0m\u001b[37m\u001b[0m \u001b[1m1s\u001b[0m 15ms/step - loss: 2.0630e-04 - val_loss: 0.0011\n",
            "Epoch 34/100\n",
            "\u001b[1m24/24\u001b[0m \u001b[32m━━━━━━━━━━━━━━━━━━━━\u001b[0m\u001b[37m\u001b[0m \u001b[1m1s\u001b[0m 15ms/step - loss: 1.3478e-04 - val_loss: 9.4773e-04\n",
            "Epoch 35/100\n",
            "\u001b[1m24/24\u001b[0m \u001b[32m━━━━━━━━━━━━━━━━━━━━\u001b[0m\u001b[37m\u001b[0m \u001b[1m0s\u001b[0m 15ms/step - loss: 1.2818e-04 - val_loss: 0.0025\n",
            "Epoch 36/100\n",
            "\u001b[1m24/24\u001b[0m \u001b[32m━━━━━━━━━━━━━━━━━━━━\u001b[0m\u001b[37m\u001b[0m \u001b[1m1s\u001b[0m 15ms/step - loss: 1.1876e-04 - val_loss: 0.0011\n",
            "Epoch 37/100\n",
            "\u001b[1m24/24\u001b[0m \u001b[32m━━━━━━━━━━━━━━━━━━━━\u001b[0m\u001b[37m\u001b[0m \u001b[1m1s\u001b[0m 16ms/step - loss: 1.1594e-04 - val_loss: 7.8565e-04\n",
            "Epoch 38/100\n",
            "\u001b[1m24/24\u001b[0m \u001b[32m━━━━━━━━━━━━━━━━━━━━\u001b[0m\u001b[37m\u001b[0m \u001b[1m1s\u001b[0m 15ms/step - loss: 1.2307e-04 - val_loss: 0.0010\n",
            "Epoch 39/100\n",
            "\u001b[1m24/24\u001b[0m \u001b[32m━━━━━━━━━━━━━━━━━━━━\u001b[0m\u001b[37m\u001b[0m \u001b[1m1s\u001b[0m 16ms/step - loss: 1.2459e-04 - val_loss: 0.0015\n",
            "Epoch 40/100\n",
            "\u001b[1m24/24\u001b[0m \u001b[32m━━━━━━━━━━━━━━━━━━━━\u001b[0m\u001b[37m\u001b[0m \u001b[1m1s\u001b[0m 25ms/step - loss: 1.2824e-04 - val_loss: 0.0015\n",
            "Epoch 41/100\n",
            "\u001b[1m24/24\u001b[0m \u001b[32m━━━━━━━━━━━━━━━━━━━━\u001b[0m\u001b[37m\u001b[0m \u001b[1m1s\u001b[0m 21ms/step - loss: 1.2931e-04 - val_loss: 0.0011\n",
            "Epoch 42/100\n",
            "\u001b[1m24/24\u001b[0m \u001b[32m━━━━━━━━━━━━━━━━━━━━\u001b[0m\u001b[37m\u001b[0m \u001b[1m1s\u001b[0m 24ms/step - loss: 1.2002e-04 - val_loss: 0.0017\n",
            "Epoch 43/100\n",
            "\u001b[1m24/24\u001b[0m \u001b[32m━━━━━━━━━━━━━━━━━━━━\u001b[0m\u001b[37m\u001b[0m \u001b[1m1s\u001b[0m 22ms/step - loss: 1.0764e-04 - val_loss: 0.0016\n",
            "Epoch 44/100\n",
            "\u001b[1m24/24\u001b[0m \u001b[32m━━━━━━━━━━━━━━━━━━━━\u001b[0m\u001b[37m\u001b[0m \u001b[1m1s\u001b[0m 22ms/step - loss: 9.6648e-05 - val_loss: 6.5782e-04\n",
            "Epoch 45/100\n",
            "\u001b[1m24/24\u001b[0m \u001b[32m━━━━━━━━━━━━━━━━━━━━\u001b[0m\u001b[37m\u001b[0m \u001b[1m0s\u001b[0m 15ms/step - loss: 1.1323e-04 - val_loss: 8.8280e-04\n",
            "Epoch 46/100\n",
            "\u001b[1m24/24\u001b[0m \u001b[32m━━━━━━━━━━━━━━━━━━━━\u001b[0m\u001b[37m\u001b[0m \u001b[1m0s\u001b[0m 18ms/step - loss: 9.1550e-05 - val_loss: 6.1956e-04\n",
            "Epoch 47/100\n",
            "\u001b[1m24/24\u001b[0m \u001b[32m━━━━━━━━━━━━━━━━━━━━\u001b[0m\u001b[37m\u001b[0m \u001b[1m0s\u001b[0m 15ms/step - loss: 1.2471e-04 - val_loss: 0.0017\n",
            "Epoch 48/100\n",
            "\u001b[1m24/24\u001b[0m \u001b[32m━━━━━━━━━━━━━━━━━━━━\u001b[0m\u001b[37m\u001b[0m \u001b[1m1s\u001b[0m 16ms/step - loss: 1.0023e-04 - val_loss: 5.9431e-04\n",
            "Epoch 49/100\n",
            "\u001b[1m24/24\u001b[0m \u001b[32m━━━━━━━━━━━━━━━━━━━━\u001b[0m\u001b[37m\u001b[0m \u001b[1m1s\u001b[0m 15ms/step - loss: 1.2764e-04 - val_loss: 7.1131e-04\n",
            "Epoch 50/100\n",
            "\u001b[1m24/24\u001b[0m \u001b[32m━━━━━━━━━━━━━━━━━━━━\u001b[0m\u001b[37m\u001b[0m \u001b[1m0s\u001b[0m 16ms/step - loss: 1.3049e-04 - val_loss: 0.0028\n",
            "Epoch 51/100\n",
            "\u001b[1m24/24\u001b[0m \u001b[32m━━━━━━━━━━━━━━━━━━━━\u001b[0m\u001b[37m\u001b[0m \u001b[1m0s\u001b[0m 15ms/step - loss: 1.5666e-04 - val_loss: 0.0024\n",
            "Epoch 52/100\n",
            "\u001b[1m24/24\u001b[0m \u001b[32m━━━━━━━━━━━━━━━━━━━━\u001b[0m\u001b[37m\u001b[0m \u001b[1m0s\u001b[0m 15ms/step - loss: 1.1644e-04 - val_loss: 9.2108e-04\n",
            "Epoch 53/100\n",
            "\u001b[1m24/24\u001b[0m \u001b[32m━━━━━━━━━━━━━━━━━━━━\u001b[0m\u001b[37m\u001b[0m \u001b[1m0s\u001b[0m 16ms/step - loss: 8.2705e-05 - val_loss: 0.0013\n",
            "Epoch 54/100\n",
            "\u001b[1m24/24\u001b[0m \u001b[32m━━━━━━━━━━━━━━━━━━━━\u001b[0m\u001b[37m\u001b[0m \u001b[1m0s\u001b[0m 15ms/step - loss: 9.0982e-05 - val_loss: 0.0010\n",
            "Epoch 55/100\n",
            "\u001b[1m24/24\u001b[0m \u001b[32m━━━━━━━━━━━━━━━━━━━━\u001b[0m\u001b[37m\u001b[0m \u001b[1m0s\u001b[0m 16ms/step - loss: 8.9465e-05 - val_loss: 0.0014\n",
            "Epoch 56/100\n",
            "\u001b[1m24/24\u001b[0m \u001b[32m━━━━━━━━━━━━━━━━━━━━\u001b[0m\u001b[37m\u001b[0m \u001b[1m1s\u001b[0m 15ms/step - loss: 9.5510e-05 - val_loss: 6.5909e-04\n",
            "Epoch 57/100\n",
            "\u001b[1m24/24\u001b[0m \u001b[32m━━━━━━━━━━━━━━━━━━━━\u001b[0m\u001b[37m\u001b[0m \u001b[1m1s\u001b[0m 16ms/step - loss: 1.1117e-04 - val_loss: 9.3299e-04\n",
            "Epoch 58/100\n",
            "\u001b[1m24/24\u001b[0m \u001b[32m━━━━━━━━━━━━━━━━━━━━\u001b[0m\u001b[37m\u001b[0m \u001b[1m1s\u001b[0m 16ms/step - loss: 8.7914e-05 - val_loss: 8.3822e-04\n",
            "Epoch 59/100\n",
            "\u001b[1m24/24\u001b[0m \u001b[32m━━━━━━━━━━━━━━━━━━━━\u001b[0m\u001b[37m\u001b[0m \u001b[1m0s\u001b[0m 15ms/step - loss: 7.7311e-05 - val_loss: 0.0011\n",
            "Epoch 60/100\n",
            "\u001b[1m24/24\u001b[0m \u001b[32m━━━━━━━━━━━━━━━━━━━━\u001b[0m\u001b[37m\u001b[0m \u001b[1m0s\u001b[0m 15ms/step - loss: 9.2460e-05 - val_loss: 0.0017\n",
            "Epoch 61/100\n",
            "\u001b[1m24/24\u001b[0m \u001b[32m━━━━━━━━━━━━━━━━━━━━\u001b[0m\u001b[37m\u001b[0m \u001b[1m0s\u001b[0m 16ms/step - loss: 1.0877e-04 - val_loss: 8.2063e-04\n",
            "Epoch 62/100\n",
            "\u001b[1m24/24\u001b[0m \u001b[32m━━━━━━━━━━━━━━━━━━━━\u001b[0m\u001b[37m\u001b[0m \u001b[1m1s\u001b[0m 15ms/step - loss: 8.8032e-05 - val_loss: 0.0015\n",
            "Epoch 63/100\n",
            "\u001b[1m24/24\u001b[0m \u001b[32m━━━━━━━━━━━━━━━━━━━━\u001b[0m\u001b[37m\u001b[0m \u001b[1m1s\u001b[0m 16ms/step - loss: 7.2722e-05 - val_loss: 9.0472e-04\n",
            "Epoch 64/100\n",
            "\u001b[1m24/24\u001b[0m \u001b[32m━━━━━━━━━━━━━━━━━━━━\u001b[0m\u001b[37m\u001b[0m \u001b[1m1s\u001b[0m 16ms/step - loss: 7.0231e-05 - val_loss: 0.0014\n",
            "Epoch 65/100\n",
            "\u001b[1m24/24\u001b[0m \u001b[32m━━━━━━━━━━━━━━━━━━━━\u001b[0m\u001b[37m\u001b[0m \u001b[1m1s\u001b[0m 22ms/step - loss: 6.7821e-05 - val_loss: 4.9751e-04\n",
            "Epoch 66/100\n",
            "\u001b[1m24/24\u001b[0m \u001b[32m━━━━━━━━━━━━━━━━━━━━\u001b[0m\u001b[37m\u001b[0m \u001b[1m1s\u001b[0m 22ms/step - loss: 7.4666e-05 - val_loss: 0.0011\n",
            "Epoch 67/100\n",
            "\u001b[1m24/24\u001b[0m \u001b[32m━━━━━━━━━━━━━━━━━━━━\u001b[0m\u001b[37m\u001b[0m \u001b[1m1s\u001b[0m 24ms/step - loss: 6.0742e-05 - val_loss: 8.6165e-04\n",
            "Epoch 68/100\n",
            "\u001b[1m24/24\u001b[0m \u001b[32m━━━━━━━━━━━━━━━━━━━━\u001b[0m\u001b[37m\u001b[0m \u001b[1m1s\u001b[0m 24ms/step - loss: 6.9394e-05 - val_loss: 0.0016\n",
            "Epoch 69/100\n",
            "\u001b[1m24/24\u001b[0m \u001b[32m━━━━━━━━━━━━━━━━━━━━\u001b[0m\u001b[37m\u001b[0m \u001b[1m1s\u001b[0m 22ms/step - loss: 7.1676e-05 - val_loss: 5.6066e-04\n",
            "Epoch 70/100\n",
            "\u001b[1m24/24\u001b[0m \u001b[32m━━━━━━━━━━━━━━━━━━━━\u001b[0m\u001b[37m\u001b[0m \u001b[1m0s\u001b[0m 15ms/step - loss: 9.6816e-05 - val_loss: 7.5612e-04\n",
            "Epoch 71/100\n",
            "\u001b[1m24/24\u001b[0m \u001b[32m━━━━━━━━━━━━━━━━━━━━\u001b[0m\u001b[37m\u001b[0m \u001b[1m1s\u001b[0m 15ms/step - loss: 6.6558e-05 - val_loss: 0.0012\n",
            "Epoch 72/100\n",
            "\u001b[1m24/24\u001b[0m \u001b[32m━━━━━━━━━━━━━━━━━━━━\u001b[0m\u001b[37m\u001b[0m \u001b[1m0s\u001b[0m 16ms/step - loss: 6.6059e-05 - val_loss: 0.0014\n",
            "Epoch 73/100\n",
            "\u001b[1m24/24\u001b[0m \u001b[32m━━━━━━━━━━━━━━━━━━━━\u001b[0m\u001b[37m\u001b[0m \u001b[1m0s\u001b[0m 16ms/step - loss: 7.0401e-05 - val_loss: 0.0016\n",
            "Epoch 74/100\n",
            "\u001b[1m24/24\u001b[0m \u001b[32m━━━━━━━━━━━━━━━━━━━━\u001b[0m\u001b[37m\u001b[0m \u001b[1m0s\u001b[0m 15ms/step - loss: 7.4952e-05 - val_loss: 0.0011\n",
            "Epoch 75/100\n",
            "\u001b[1m24/24\u001b[0m \u001b[32m━━━━━━━━━━━━━━━━━━━━\u001b[0m\u001b[37m\u001b[0m \u001b[1m0s\u001b[0m 15ms/step - loss: 7.0077e-05 - val_loss: 0.0020\n",
            "Epoch 76/100\n",
            "\u001b[1m24/24\u001b[0m \u001b[32m━━━━━━━━━━━━━━━━━━━━\u001b[0m\u001b[37m\u001b[0m \u001b[1m0s\u001b[0m 15ms/step - loss: 7.7720e-05 - val_loss: 4.6397e-04\n",
            "Epoch 77/100\n",
            "\u001b[1m24/24\u001b[0m \u001b[32m━━━━━━━━━━━━━━━━━━━━\u001b[0m\u001b[37m\u001b[0m \u001b[1m0s\u001b[0m 16ms/step - loss: 8.9862e-05 - val_loss: 0.0012\n",
            "Epoch 78/100\n",
            "\u001b[1m24/24\u001b[0m \u001b[32m━━━━━━━━━━━━━━━━━━━━\u001b[0m\u001b[37m\u001b[0m \u001b[1m0s\u001b[0m 16ms/step - loss: 5.6100e-05 - val_loss: 0.0019\n",
            "Epoch 79/100\n",
            "\u001b[1m24/24\u001b[0m \u001b[32m━━━━━━━━━━━━━━━━━━━━\u001b[0m\u001b[37m\u001b[0m \u001b[1m1s\u001b[0m 16ms/step - loss: 8.1190e-05 - val_loss: 0.0013\n",
            "Epoch 80/100\n",
            "\u001b[1m24/24\u001b[0m \u001b[32m━━━━━━━━━━━━━━━━━━━━\u001b[0m\u001b[37m\u001b[0m \u001b[1m0s\u001b[0m 16ms/step - loss: 6.7680e-05 - val_loss: 7.8192e-04\n",
            "Epoch 81/100\n",
            "\u001b[1m24/24\u001b[0m \u001b[32m━━━━━━━━━━━━━━━━━━━━\u001b[0m\u001b[37m\u001b[0m \u001b[1m1s\u001b[0m 16ms/step - loss: 6.2803e-05 - val_loss: 0.0019\n",
            "Epoch 82/100\n",
            "\u001b[1m24/24\u001b[0m \u001b[32m━━━━━━━━━━━━━━━━━━━━\u001b[0m\u001b[37m\u001b[0m \u001b[1m1s\u001b[0m 15ms/step - loss: 6.1561e-05 - val_loss: 0.0015\n",
            "Epoch 83/100\n",
            "\u001b[1m24/24\u001b[0m \u001b[32m━━━━━━━━━━━━━━━━━━━━\u001b[0m\u001b[37m\u001b[0m \u001b[1m0s\u001b[0m 16ms/step - loss: 5.9671e-05 - val_loss: 0.0014\n",
            "Epoch 84/100\n",
            "\u001b[1m24/24\u001b[0m \u001b[32m━━━━━━━━━━━━━━━━━━━━\u001b[0m\u001b[37m\u001b[0m \u001b[1m0s\u001b[0m 16ms/step - loss: 7.1236e-05 - val_loss: 5.1711e-04\n",
            "Epoch 85/100\n",
            "\u001b[1m24/24\u001b[0m \u001b[32m━━━━━━━━━━━━━━━━━━━━\u001b[0m\u001b[37m\u001b[0m \u001b[1m1s\u001b[0m 16ms/step - loss: 6.1810e-05 - val_loss: 0.0013\n",
            "Epoch 86/100\n",
            "\u001b[1m24/24\u001b[0m \u001b[32m━━━━━━━━━━━━━━━━━━━━\u001b[0m\u001b[37m\u001b[0m \u001b[1m0s\u001b[0m 16ms/step - loss: 6.1916e-05 - val_loss: 0.0024\n",
            "Epoch 87/100\n",
            "\u001b[1m24/24\u001b[0m \u001b[32m━━━━━━━━━━━━━━━━━━━━\u001b[0m\u001b[37m\u001b[0m \u001b[1m1s\u001b[0m 16ms/step - loss: 8.1204e-05 - val_loss: 4.2044e-04\n",
            "Epoch 88/100\n",
            "\u001b[1m24/24\u001b[0m \u001b[32m━━━━━━━━━━━━━━━━━━━━\u001b[0m\u001b[37m\u001b[0m \u001b[1m1s\u001b[0m 15ms/step - loss: 1.1830e-04 - val_loss: 0.0015\n",
            "Epoch 89/100\n",
            "\u001b[1m24/24\u001b[0m \u001b[32m━━━━━━━━━━━━━━━━━━━━\u001b[0m\u001b[37m\u001b[0m \u001b[1m1s\u001b[0m 16ms/step - loss: 5.3932e-05 - val_loss: 8.0439e-04\n",
            "Epoch 90/100\n",
            "\u001b[1m24/24\u001b[0m \u001b[32m━━━━━━━━━━━━━━━━━━━━\u001b[0m\u001b[37m\u001b[0m \u001b[1m1s\u001b[0m 22ms/step - loss: 7.9651e-05 - val_loss: 0.0016\n",
            "Epoch 91/100\n",
            "\u001b[1m24/24\u001b[0m \u001b[32m━━━━━━━━━━━━━━━━━━━━\u001b[0m\u001b[37m\u001b[0m \u001b[1m1s\u001b[0m 23ms/step - loss: 6.6570e-05 - val_loss: 0.0014\n",
            "Epoch 92/100\n",
            "\u001b[1m24/24\u001b[0m \u001b[32m━━━━━━━━━━━━━━━━━━━━\u001b[0m\u001b[37m\u001b[0m \u001b[1m1s\u001b[0m 24ms/step - loss: 6.7142e-05 - val_loss: 6.2290e-04\n",
            "Epoch 93/100\n",
            "\u001b[1m24/24\u001b[0m \u001b[32m━━━━━━━━━━━━━━━━━━━━\u001b[0m\u001b[37m\u001b[0m \u001b[1m1s\u001b[0m 22ms/step - loss: 6.8364e-05 - val_loss: 0.0013\n",
            "Epoch 94/100\n",
            "\u001b[1m24/24\u001b[0m \u001b[32m━━━━━━━━━━━━━━━━━━━━\u001b[0m\u001b[37m\u001b[0m \u001b[1m1s\u001b[0m 20ms/step - loss: 4.8324e-05 - val_loss: 0.0016\n",
            "Epoch 95/100\n",
            "\u001b[1m24/24\u001b[0m \u001b[32m━━━━━━━━━━━━━━━━━━━━\u001b[0m\u001b[37m\u001b[0m \u001b[1m0s\u001b[0m 15ms/step - loss: 5.8763e-05 - val_loss: 0.0019\n",
            "Epoch 96/100\n",
            "\u001b[1m24/24\u001b[0m \u001b[32m━━━━━━━━━━━━━━━━━━━━\u001b[0m\u001b[37m\u001b[0m \u001b[1m0s\u001b[0m 16ms/step - loss: 5.5583e-05 - val_loss: 0.0010\n",
            "Epoch 97/100\n",
            "\u001b[1m24/24\u001b[0m \u001b[32m━━━━━━━━━━━━━━━━━━━━\u001b[0m\u001b[37m\u001b[0m \u001b[1m1s\u001b[0m 15ms/step - loss: 4.9832e-05 - val_loss: 0.0016\n",
            "Epoch 98/100\n",
            "\u001b[1m24/24\u001b[0m \u001b[32m━━━━━━━━━━━━━━━━━━━━\u001b[0m\u001b[37m\u001b[0m \u001b[1m0s\u001b[0m 16ms/step - loss: 5.7662e-05 - val_loss: 0.0014\n",
            "Epoch 99/100\n",
            "\u001b[1m24/24\u001b[0m \u001b[32m━━━━━━━━━━━━━━━━━━━━\u001b[0m\u001b[37m\u001b[0m \u001b[1m0s\u001b[0m 15ms/step - loss: 6.1590e-05 - val_loss: 0.0016\n",
            "Epoch 100/100\n",
            "\u001b[1m24/24\u001b[0m \u001b[32m━━━━━━━━━━━━━━━━━━━━\u001b[0m\u001b[37m\u001b[0m \u001b[1m1s\u001b[0m 16ms/step - loss: 5.5837e-05 - val_loss: 8.2098e-04\n"
          ]
        },
        {
          "output_type": "execute_result",
          "data": {
            "text/plain": [
              "<keras.src.callbacks.history.History at 0x7ea957474490>"
            ]
          },
          "metadata": {},
          "execution_count": 80
        }
      ]
    },
    {
      "cell_type": "code",
      "source": [
        "tf.__version__"
      ],
      "metadata": {
        "colab": {
          "base_uri": "https://localhost:8080/",
          "height": 36
        },
        "id": "NXXTUup1lysy",
        "outputId": "87cb3403-76bd-4f18-f6f1-66e3224ffcd5"
      },
      "execution_count": 81,
      "outputs": [
        {
          "output_type": "execute_result",
          "data": {
            "text/plain": [
              "'2.17.0'"
            ],
            "application/vnd.google.colaboratory.intrinsic+json": {
              "type": "string"
            }
          },
          "metadata": {},
          "execution_count": 81
        }
      ]
    },
    {
      "cell_type": "code",
      "source": [
        "train_predict = model.predict(Xtrain)\n",
        "test_predict = model.predict(Xtest)"
      ],
      "metadata": {
        "colab": {
          "base_uri": "https://localhost:8080/"
        },
        "id": "PIq5k6wvUOn0",
        "outputId": "3622fa15-abbe-4acf-d92a-2b433d2a37ef"
      },
      "execution_count": 82,
      "outputs": [
        {
          "output_type": "stream",
          "name": "stdout",
          "text": [
            "\u001b[1m47/47\u001b[0m \u001b[32m━━━━━━━━━━━━━━━━━━━━\u001b[0m\u001b[37m\u001b[0m \u001b[1m1s\u001b[0m 10ms/step\n",
            "\u001b[1m24/24\u001b[0m \u001b[32m━━━━━━━━━━━━━━━━━━━━\u001b[0m\u001b[37m\u001b[0m \u001b[1m0s\u001b[0m 5ms/step\n"
          ]
        }
      ]
    },
    {
      "cell_type": "code",
      "source": [
        "train_predict = scaler.inverse_transform(train_predict)\n",
        "test_predict = scaler.inverse_transform(test_predict)"
      ],
      "metadata": {
        "id": "rm8FiF5mUTfx"
      },
      "execution_count": 83,
      "outputs": []
    },
    {
      "cell_type": "code",
      "source": [
        "import math\n",
        "from sklearn.metrics import mean_squared_error\n",
        "math.sqrt(mean_squared_error(ytrain, train_predict))"
      ],
      "metadata": {
        "colab": {
          "base_uri": "https://localhost:8080/"
        },
        "id": "o9YKXYSrUZ3I",
        "outputId": "1ab3b4e8-32f6-494e-ca25-bd057937ac16"
      },
      "execution_count": 84,
      "outputs": [
        {
          "output_type": "execute_result",
          "data": {
            "text/plain": [
              "62.79432770264174"
            ]
          },
          "metadata": {},
          "execution_count": 84
        }
      ]
    },
    {
      "cell_type": "code",
      "source": [
        "math.sqrt(mean_squared_error(ytest, test_predict))"
      ],
      "metadata": {
        "colab": {
          "base_uri": "https://localhost:8080/"
        },
        "id": "D1MU_vWRUftw",
        "outputId": "623c3b51-6f74-4e24-c175-b6d99f2e071d"
      },
      "execution_count": 85,
      "outputs": [
        {
          "output_type": "execute_result",
          "data": {
            "text/plain": [
              "169.50036419072438"
            ]
          },
          "metadata": {},
          "execution_count": 85
        }
      ]
    },
    {
      "cell_type": "code",
      "source": [
        "# # plotting\n",
        "# look_back=100\n",
        "# trainPredictPlot = np.empty_like(df)\n",
        "# trainPredictPlot[:, :] = np.nan\n",
        "# trainPredictPlot[look_back:len(train_predict)+look_back, :] = train_predict\n",
        "\n",
        "# testPredictPlot = np.empty_like(df)\n",
        "# testPredictPlot[:, :] = np.nan\n",
        "# # Adjust the slicing to ensure the target slice has the same size as test_predict\n",
        "# testPredictPlot[len(train_predict)+(look_back)+1:len(train_predict)+(look_back)+1 + len(test_predict), :] = test_predict\n",
        "\n",
        "# plt.plot(scaler.inverse_transform(df))\n",
        "# plt.plot(trainPredictPlot)\n",
        "# plt.plot(testPredictPlot)\n",
        "# plt.show()"
      ],
      "metadata": {
        "id": "8c0edtbsVeBE"
      },
      "execution_count": 86,
      "outputs": []
    },
    {
      "cell_type": "code",
      "source": [
        "# plotting\n",
        "look_back=100\n",
        "trainPredictPlot = np.empty_like(df)\n",
        "trainPredictPlot[:, :] = np.nan\n",
        "trainPredictPlot[look_back:len(train_predict)+look_back, :] = train_predict\n",
        "\n",
        "testPredictPlot = np.empty_like(df)\n",
        "testPredictPlot[:, :] = np.nan\n",
        "testPredictPlot[len(train_predict) + (look_back*2): len(df)] = test_predict\n",
        "\n",
        "plt.plot(scaler.inverse_transform(df))\n",
        "plt.plot(trainPredictPlot)\n",
        "plt.plot(testPredictPlot)\n",
        "plt.show()"
      ],
      "metadata": {
        "colab": {
          "base_uri": "https://localhost:8080/",
          "height": 430
        },
        "id": "dITzFWBSUjKg",
        "outputId": "5325e85a-f083-4578-ad6c-d77a9ae01fc3"
      },
      "execution_count": 87,
      "outputs": [
        {
          "output_type": "display_data",
          "data": {
            "text/plain": [
              "<Figure size 640x480 with 1 Axes>"
            ],
            "image/png": "[encoded data removed]"
          },
          "metadata": {}
        }
      ]
    },
    {
      "cell_type": "code",
      "source": [
        "# predicting future 30 days\n",
        "\n",
        "len(test_data)"
      ],
      "metadata": {
        "colab": {
          "base_uri": "https://localhost:8080/"
        },
        "id": "eEGuziWGVBQP",
        "outputId": "8a2ad073-dd67-4d83-b519-2825c4a9165d"
      },
      "execution_count": 88,
      "outputs": [
        {
          "output_type": "execute_result",
          "data": {
            "text/plain": [
              "863"
            ]
          },
          "metadata": {},
          "execution_count": 88
        }
      ]
    },
    {
      "cell_type": "code",
      "source": [
        "x_input = test_data[len(test_data)-100:].reshape(1, -1)\n",
        "x_input.shape"
      ],
      "metadata": {
        "colab": {
          "base_uri": "https://localhost:8080/"
        },
        "id": "y7CG8e3pYJMg",
        "outputId": "a754b5cd-d023-4b17-bee4-d0206762bf3a"
      },
      "execution_count": 89,
      "outputs": [
        {
          "output_type": "execute_result",
          "data": {
            "text/plain": [
              "(1, 100)"
            ]
          },
          "metadata": {},
          "execution_count": 89
        }
      ]
    },
    {
      "cell_type": "code",
      "source": [
        "temp_input = list(x_input)\n",
        "temp_input = temp_input[0].tolist()"
      ],
      "metadata": {
        "id": "0zcveUjeZR5A"
      },
      "execution_count": 90,
      "outputs": []
    },
    {
      "cell_type": "code",
      "source": [
        "temp_input"
      ],
      "metadata": {
        "colab": {
          "base_uri": "https://localhost:8080/"
        },
        "collapsed": true,
        "id": "-UGcmAWgZbc7",
        "outputId": "86147cd8-5c5a-4af2-c3f2-8fa67a6ec4d5"
      },
      "execution_count": 91,
      "outputs": [
        {
          "output_type": "execute_result",
          "data": {
            "text/plain": [
              "[0.7649419974406587,\n",
              " 0.7793752614177969,\n",
              " 0.7794218659391815,\n",
              " 0.780818580711163,\n",
              " 0.785474486067042,\n",
              " 0.789944186467816,\n",
              " 0.7982316923178023,\n",
              " 0.799721616132553,\n",
              " 0.8067985411221851,\n",
              " 0.8003268355192523,\n",
              " 0.8115475844773553,\n",
              " 0.7939948013935179,\n",
              " 0.8593171478530217,\n",
              " 0.8868801700780857,\n",
              " 0.8923275708192467,\n",
              " 0.8841797364464585,\n",
              " 0.9036413867331633,\n",
              " 0.8925603092522585,\n",
              " 0.8710965827199173,\n",
              " 0.8609002096670636,\n",
              " 0.8639265197309939,\n",
              " 0.8682565486545698,\n",
              " 0.8877181989412746,\n",
              " 0.8916757469111628,\n",
              " 0.8754731451214,\n",
              " 0.9040138676868511,\n",
              " 0.9204026744317187,\n",
              " 0.9263622276037656,\n",
              " 0.9486639829992959,\n",
              " 0.9555547740773006,\n",
              " 0.9595587844816179,\n",
              " 0.979579191720593,\n",
              " 0.9543907977383309,\n",
              " 0.968218771285292,\n",
              " 0.9861905688007239,\n",
              " 0.9881461115684534,\n",
              " 0.960490022387576,\n",
              " 0.9386072103801625,\n",
              " 0.9392125008103397,\n",
              " 0.9375829765618687,\n",
              " 0.9424716203507594,\n",
              " 0.9123479070147441,\n",
              " 0.9074592632258535,\n",
              " 0.9096475444265949,\n",
              " 0.9109511922427628,\n",
              " 0.9135584878750985,\n",
              " 0.9288298517589034,\n",
              " 0.9115098781515553,\n",
              " 0.9184937361853737,\n",
              " 0.86918771551705,\n",
              " 0.8596896288067094,\n",
              " 0.871748477671479,\n",
              " 0.8879975418956709,\n",
              " 0.9016393815310048,\n",
              " 0.9076454681809584,\n",
              " 0.9250585797875978,\n",
              " 0.9271537229890477,\n",
              " 0.9411214390566848,\n",
              " 0.9473138017052211,\n",
              " 0.9465688397978459,\n",
              " 0.949455478384578,\n",
              " 0.948943325953692,\n",
              " 0.9402368056721112,\n",
              " 0.9509919356772353,\n",
              " 0.9525749264477995,\n",
              " 0.9565324744176876,\n",
              " 0.9493624114287643,\n",
              " 0.9647268422683827,\n",
              " 0.9610487082963685,\n",
              " 0.9320424378214162,\n",
              " 0.923103108063346,\n",
              " 0.9302266375743625,\n",
              " 0.9229634365861478,\n",
              " 0.9233824510177423,\n",
              " 0.9196577125243436,\n",
              " 0.9315302853905304,\n",
              " 0.9320424378214162,\n",
              " 0.9307853234831552,\n",
              " 0.9020118624846923,\n",
              " 0.904200072641956,\n",
              " 0.9223581461559706,\n",
              " 0.9604434178661915,\n",
              " 0.9573239698029697,\n",
              " 0.9492692734294729,\n",
              " 0.9534595598323728,\n",
              " 0.9488036544764941,\n",
              " 0.9541579882618415,\n",
              " 0.9554150315566249,\n",
              " 0.9796723297198845,\n",
              " 0.9480587636125964,\n",
              " 0.9507125927228389,\n",
              " 0.9455445349360742,\n",
              " 0.9508057307221304,\n",
              " 0.9270140515118496,\n",
              " 0.9460101538890532,\n",
              " 0.963562865929413,\n",
              " 0.9612349132514736,\n",
              " 0.9542976597390395,\n",
              " 0.9717573048235858,\n",
              " 1.0]"
            ]
          },
          "metadata": {},
          "execution_count": 91
        }
      ]
    },
    {
      "cell_type": "code",
      "source": [
        "from numpy import array\n",
        "\n",
        "lst_output = []\n",
        "n_steps = 100\n",
        "i = 0\n",
        "while (i < 30):\n",
        "  if len(temp_input) > 100:\n",
        "    x_input = np.array(temp_input[1:])\n",
        "    print('{} day input {}'.format(i,x_input))\n",
        "    x_input = x_input.reshape(1, -1)\n",
        "    x_input = x_input.reshape((1, n_steps, 1))\n",
        "    yhat = model.predict(x_input, verbose=0)\n",
        "    print('{} day output {}'.format(i,yhat))\n",
        "    temp_input.extend(yhat[0].tolist())\n",
        "    temp_input = temp_input[1:]\n",
        "    lst_output.extend(yhat.tolist())\n",
        "    i = i+1\n",
        "  else:\n",
        "    x_input = x_input.reshape((1, n_steps, 1))\n",
        "    yhat = model.predict(x_input, verbose=0)\n",
        "    print('{} day output {}'.format(i,yhat))\n",
        "    temp_input.extend(yhat[0].tolist())\n",
        "    print(len(temp_input))\n",
        "    lst_output.extend(yhat.tolist())\n",
        "    i = i+1\n",
        "\n",
        "print(lst_output)"
      ],
      "metadata": {
        "colab": {
          "base_uri": "https://localhost:8080/"
        },
        "id": "0pSWThNyZhP7",
        "outputId": "40f3b334-1c88-4a70-df0c-b798123475f2"
      },
      "execution_count": 92,
      "outputs": [
        {
          "output_type": "stream",
          "name": "stdout",
          "text": [
            "0 day output [[0.92268646]]\n",
            "101\n",
            "1 day input [0.77937526 0.77942187 0.78081858 0.78547449 0.78994419 0.79823169\n",
            " 0.79972162 0.80679854 0.80032684 0.81154758 0.7939948  0.85931715\n",
            " 0.88688017 0.89232757 0.88417974 0.90364139 0.89256031 0.87109658\n",
            " 0.86090021 0.86392652 0.86825655 0.8877182  0.89167575 0.87547315\n",
            " 0.90401387 0.92040267 0.92636223 0.94866398 0.95555477 0.95955878\n",
            " 0.97957919 0.9543908  0.96821877 0.98619057 0.98814611 0.96049002\n",
            " 0.93860721 0.9392125  0.93758298 0.94247162 0.91234791 0.90745926\n",
            " 0.90964754 0.91095119 0.91355849 0.92882985 0.91150988 0.91849374\n",
            " 0.86918772 0.85968963 0.87174848 0.88799754 0.90163938 0.90764547\n",
            " 0.92505858 0.92715372 0.94112144 0.9473138  0.94656884 0.94945548\n",
            " 0.94894333 0.94023681 0.95099194 0.95257493 0.95653247 0.94936241\n",
            " 0.96472684 0.96104871 0.93204244 0.92310311 0.93022664 0.92296344\n",
            " 0.92338245 0.91965771 0.93153029 0.93204244 0.93078532 0.90201186\n",
            " 0.90420007 0.92235815 0.96044342 0.95732397 0.94926927 0.95345956\n",
            " 0.94880365 0.95415799 0.95541503 0.97967233 0.94805876 0.95071259\n",
            " 0.94554453 0.95080573 0.92701405 0.94601015 0.96356287 0.96123491\n",
            " 0.95429766 0.9717573  1.         0.92268646]\n",
            "1 day output [[0.8587659]]\n",
            "2 day input [0.77942187 0.78081858 0.78547449 0.78994419 0.79823169 0.79972162\n",
            " 0.80679854 0.80032684 0.81154758 0.7939948  0.85931715 0.88688017\n",
            " 0.89232757 0.88417974 0.90364139 0.89256031 0.87109658 0.86090021\n",
            " 0.86392652 0.86825655 0.8877182  0.89167575 0.87547315 0.90401387\n",
            " 0.92040267 0.92636223 0.94866398 0.95555477 0.95955878 0.97957919\n",
            " 0.9543908  0.96821877 0.98619057 0.98814611 0.96049002 0.93860721\n",
            " 0.9392125  0.93758298 0.94247162 0.91234791 0.90745926 0.90964754\n",
            " 0.91095119 0.91355849 0.92882985 0.91150988 0.91849374 0.86918772\n",
            " 0.85968963 0.87174848 0.88799754 0.90163938 0.90764547 0.92505858\n",
            " 0.92715372 0.94112144 0.9473138  0.94656884 0.94945548 0.94894333\n",
            " 0.94023681 0.95099194 0.95257493 0.95653247 0.94936241 0.96472684\n",
            " 0.96104871 0.93204244 0.92310311 0.93022664 0.92296344 0.92338245\n",
            " 0.91965771 0.93153029 0.93204244 0.93078532 0.90201186 0.90420007\n",
            " 0.92235815 0.96044342 0.95732397 0.94926927 0.95345956 0.94880365\n",
            " 0.95415799 0.95541503 0.97967233 0.94805876 0.95071259 0.94554453\n",
            " 0.95080573 0.92701405 0.94601015 0.96356287 0.96123491 0.95429766\n",
            " 0.9717573  1.         0.92268646 0.8587659 ]\n",
            "2 day output [[0.8043109]]\n",
            "3 day input [0.78081858 0.78547449 0.78994419 0.79823169 0.79972162 0.80679854\n",
            " 0.80032684 0.81154758 0.7939948  0.85931715 0.88688017 0.89232757\n",
            " 0.88417974 0.90364139 0.89256031 0.87109658 0.86090021 0.86392652\n",
            " 0.86825655 0.8877182  0.89167575 0.87547315 0.90401387 0.92040267\n",
            " 0.92636223 0.94866398 0.95555477 0.95955878 0.97957919 0.9543908\n",
            " 0.96821877 0.98619057 0.98814611 0.96049002 0.93860721 0.9392125\n",
            " 0.93758298 0.94247162 0.91234791 0.90745926 0.90964754 0.91095119\n",
            " 0.91355849 0.92882985 0.91150988 0.91849374 0.86918772 0.85968963\n",
            " 0.87174848 0.88799754 0.90163938 0.90764547 0.92505858 0.92715372\n",
            " 0.94112144 0.9473138  0.94656884 0.94945548 0.94894333 0.94023681\n",
            " 0.95099194 0.95257493 0.95653247 0.94936241 0.96472684 0.96104871\n",
            " 0.93204244 0.92310311 0.93022664 0.92296344 0.92338245 0.91965771\n",
            " 0.93153029 0.93204244 0.93078532 0.90201186 0.90420007 0.92235815\n",
            " 0.96044342 0.95732397 0.94926927 0.95345956 0.94880365 0.95415799\n",
            " 0.95541503 0.97967233 0.94805876 0.95071259 0.94554453 0.95080573\n",
            " 0.92701405 0.94601015 0.96356287 0.96123491 0.95429766 0.9717573\n",
            " 1.         0.92268646 0.8587659  0.80431092]\n",
            "3 day output [[0.76259935]]\n",
            "4 day input [0.78547449 0.78994419 0.79823169 0.79972162 0.80679854 0.80032684\n",
            " 0.81154758 0.7939948  0.85931715 0.88688017 0.89232757 0.88417974\n",
            " 0.90364139 0.89256031 0.87109658 0.86090021 0.86392652 0.86825655\n",
            " 0.8877182  0.89167575 0.87547315 0.90401387 0.92040267 0.92636223\n",
            " 0.94866398 0.95555477 0.95955878 0.97957919 0.9543908  0.96821877\n",
            " 0.98619057 0.98814611 0.96049002 0.93860721 0.9392125  0.93758298\n",
            " 0.94247162 0.91234791 0.90745926 0.90964754 0.91095119 0.91355849\n",
            " 0.92882985 0.91150988 0.91849374 0.86918772 0.85968963 0.87174848\n",
            " 0.88799754 0.90163938 0.90764547 0.92505858 0.92715372 0.94112144\n",
            " 0.9473138  0.94656884 0.94945548 0.94894333 0.94023681 0.95099194\n",
            " 0.95257493 0.95653247 0.94936241 0.96472684 0.96104871 0.93204244\n",
            " 0.92310311 0.93022664 0.92296344 0.92338245 0.91965771 0.93153029\n",
            " 0.93204244 0.93078532 0.90201186 0.90420007 0.92235815 0.96044342\n",
            " 0.95732397 0.94926927 0.95345956 0.94880365 0.95415799 0.95541503\n",
            " 0.97967233 0.94805876 0.95071259 0.94554453 0.95080573 0.92701405\n",
            " 0.94601015 0.96356287 0.96123491 0.95429766 0.9717573  1.\n",
            " 0.92268646 0.8587659  0.80431092 0.76259935]\n",
            "4 day output [[0.7295266]]\n",
            "5 day input [0.78994419 0.79823169 0.79972162 0.80679854 0.80032684 0.81154758\n",
            " 0.7939948  0.85931715 0.88688017 0.89232757 0.88417974 0.90364139\n",
            " 0.89256031 0.87109658 0.86090021 0.86392652 0.86825655 0.8877182\n",
            " 0.89167575 0.87547315 0.90401387 0.92040267 0.92636223 0.94866398\n",
            " 0.95555477 0.95955878 0.97957919 0.9543908  0.96821877 0.98619057\n",
            " 0.98814611 0.96049002 0.93860721 0.9392125  0.93758298 0.94247162\n",
            " 0.91234791 0.90745926 0.90964754 0.91095119 0.91355849 0.92882985\n",
            " 0.91150988 0.91849374 0.86918772 0.85968963 0.87174848 0.88799754\n",
            " 0.90163938 0.90764547 0.92505858 0.92715372 0.94112144 0.9473138\n",
            " 0.94656884 0.94945548 0.94894333 0.94023681 0.95099194 0.95257493\n",
            " 0.95653247 0.94936241 0.96472684 0.96104871 0.93204244 0.92310311\n",
            " 0.93022664 0.92296344 0.92338245 0.91965771 0.93153029 0.93204244\n",
            " 0.93078532 0.90201186 0.90420007 0.92235815 0.96044342 0.95732397\n",
            " 0.94926927 0.95345956 0.94880365 0.95415799 0.95541503 0.97967233\n",
            " 0.94805876 0.95071259 0.94554453 0.95080573 0.92701405 0.94601015\n",
            " 0.96356287 0.96123491 0.95429766 0.9717573  1.         0.92268646\n",
            " 0.8587659  0.80431092 0.76259935 0.72952658]\n",
            "5 day output [[0.7022526]]\n",
            "6 day input [0.79823169 0.79972162 0.80679854 0.80032684 0.81154758 0.7939948\n",
            " 0.85931715 0.88688017 0.89232757 0.88417974 0.90364139 0.89256031\n",
            " 0.87109658 0.86090021 0.86392652 0.86825655 0.8877182  0.89167575\n",
            " 0.87547315 0.90401387 0.92040267 0.92636223 0.94866398 0.95555477\n",
            " 0.95955878 0.97957919 0.9543908  0.96821877 0.98619057 0.98814611\n",
            " 0.96049002 0.93860721 0.9392125  0.93758298 0.94247162 0.91234791\n",
            " 0.90745926 0.90964754 0.91095119 0.91355849 0.92882985 0.91150988\n",
            " 0.91849374 0.86918772 0.85968963 0.87174848 0.88799754 0.90163938\n",
            " 0.90764547 0.92505858 0.92715372 0.94112144 0.9473138  0.94656884\n",
            " 0.94945548 0.94894333 0.94023681 0.95099194 0.95257493 0.95653247\n",
            " 0.94936241 0.96472684 0.96104871 0.93204244 0.92310311 0.93022664\n",
            " 0.92296344 0.92338245 0.91965771 0.93153029 0.93204244 0.93078532\n",
            " 0.90201186 0.90420007 0.92235815 0.96044342 0.95732397 0.94926927\n",
            " 0.95345956 0.94880365 0.95415799 0.95541503 0.97967233 0.94805876\n",
            " 0.95071259 0.94554453 0.95080573 0.92701405 0.94601015 0.96356287\n",
            " 0.96123491 0.95429766 0.9717573  1.         0.92268646 0.8587659\n",
            " 0.80431092 0.76259935 0.72952658 0.70225263]\n",
            "6 day output [[0.67909276]]\n",
            "7 day input [0.79972162 0.80679854 0.80032684 0.81154758 0.7939948  0.85931715\n",
            " 0.88688017 0.89232757 0.88417974 0.90364139 0.89256031 0.87109658\n",
            " 0.86090021 0.86392652 0.86825655 0.8877182  0.89167575 0.87547315\n",
            " 0.90401387 0.92040267 0.92636223 0.94866398 0.95555477 0.95955878\n",
            " 0.97957919 0.9543908  0.96821877 0.98619057 0.98814611 0.96049002\n",
            " 0.93860721 0.9392125  0.93758298 0.94247162 0.91234791 0.90745926\n",
            " 0.90964754 0.91095119 0.91355849 0.92882985 0.91150988 0.91849374\n",
            " 0.86918772 0.85968963 0.87174848 0.88799754 0.90163938 0.90764547\n",
            " 0.92505858 0.92715372 0.94112144 0.9473138  0.94656884 0.94945548\n",
            " 0.94894333 0.94023681 0.95099194 0.95257493 0.95653247 0.94936241\n",
            " 0.96472684 0.96104871 0.93204244 0.92310311 0.93022664 0.92296344\n",
            " 0.92338245 0.91965771 0.93153029 0.93204244 0.93078532 0.90201186\n",
            " 0.90420007 0.92235815 0.96044342 0.95732397 0.94926927 0.95345956\n",
            " 0.94880365 0.95415799 0.95541503 0.97967233 0.94805876 0.95071259\n",
            " 0.94554453 0.95080573 0.92701405 0.94601015 0.96356287 0.96123491\n",
            " 0.95429766 0.9717573  1.         0.92268646 0.8587659  0.80431092\n",
            " 0.76259935 0.72952658 0.70225263 0.67909276]\n",
            "7 day output [[0.65903914]]\n",
            "8 day input [0.80679854 0.80032684 0.81154758 0.7939948  0.85931715 0.88688017\n",
            " 0.89232757 0.88417974 0.90364139 0.89256031 0.87109658 0.86090021\n",
            " 0.86392652 0.86825655 0.8877182  0.89167575 0.87547315 0.90401387\n",
            " 0.92040267 0.92636223 0.94866398 0.95555477 0.95955878 0.97957919\n",
            " 0.9543908  0.96821877 0.98619057 0.98814611 0.96049002 0.93860721\n",
            " 0.9392125  0.93758298 0.94247162 0.91234791 0.90745926 0.90964754\n",
            " 0.91095119 0.91355849 0.92882985 0.91150988 0.91849374 0.86918772\n",
            " 0.85968963 0.87174848 0.88799754 0.90163938 0.90764547 0.92505858\n",
            " 0.92715372 0.94112144 0.9473138  0.94656884 0.94945548 0.94894333\n",
            " 0.94023681 0.95099194 0.95257493 0.95653247 0.94936241 0.96472684\n",
            " 0.96104871 0.93204244 0.92310311 0.93022664 0.92296344 0.92338245\n",
            " 0.91965771 0.93153029 0.93204244 0.93078532 0.90201186 0.90420007\n",
            " 0.92235815 0.96044342 0.95732397 0.94926927 0.95345956 0.94880365\n",
            " 0.95415799 0.95541503 0.97967233 0.94805876 0.95071259 0.94554453\n",
            " 0.95080573 0.92701405 0.94601015 0.96356287 0.96123491 0.95429766\n",
            " 0.9717573  1.         0.92268646 0.8587659  0.80431092 0.76259935\n",
            " 0.72952658 0.70225263 0.67909276 0.65903914]\n",
            "8 day output [[0.64151716]]\n",
            "9 day input [0.80032684 0.81154758 0.7939948  0.85931715 0.88688017 0.89232757\n",
            " 0.88417974 0.90364139 0.89256031 0.87109658 0.86090021 0.86392652\n",
            " 0.86825655 0.8877182  0.89167575 0.87547315 0.90401387 0.92040267\n",
            " 0.92636223 0.94866398 0.95555477 0.95955878 0.97957919 0.9543908\n",
            " 0.96821877 0.98619057 0.98814611 0.96049002 0.93860721 0.9392125\n",
            " 0.93758298 0.94247162 0.91234791 0.90745926 0.90964754 0.91095119\n",
            " 0.91355849 0.92882985 0.91150988 0.91849374 0.86918772 0.85968963\n",
            " 0.87174848 0.88799754 0.90163938 0.90764547 0.92505858 0.92715372\n",
            " 0.94112144 0.9473138  0.94656884 0.94945548 0.94894333 0.94023681\n",
            " 0.95099194 0.95257493 0.95653247 0.94936241 0.96472684 0.96104871\n",
            " 0.93204244 0.92310311 0.93022664 0.92296344 0.92338245 0.91965771\n",
            " 0.93153029 0.93204244 0.93078532 0.90201186 0.90420007 0.92235815\n",
            " 0.96044342 0.95732397 0.94926927 0.95345956 0.94880365 0.95415799\n",
            " 0.95541503 0.97967233 0.94805876 0.95071259 0.94554453 0.95080573\n",
            " 0.92701405 0.94601015 0.96356287 0.96123491 0.95429766 0.9717573\n",
            " 1.         0.92268646 0.8587659  0.80431092 0.76259935 0.72952658\n",
            " 0.70225263 0.67909276 0.65903914 0.64151716]\n",
            "9 day output [[0.6262424]]\n",
            "10 day input [0.81154758 0.7939948  0.85931715 0.88688017 0.89232757 0.88417974\n",
            " 0.90364139 0.89256031 0.87109658 0.86090021 0.86392652 0.86825655\n",
            " 0.8877182  0.89167575 0.87547315 0.90401387 0.92040267 0.92636223\n",
            " 0.94866398 0.95555477 0.95955878 0.97957919 0.9543908  0.96821877\n",
            " 0.98619057 0.98814611 0.96049002 0.93860721 0.9392125  0.93758298\n",
            " 0.94247162 0.91234791 0.90745926 0.90964754 0.91095119 0.91355849\n",
            " 0.92882985 0.91150988 0.91849374 0.86918772 0.85968963 0.87174848\n",
            " 0.88799754 0.90163938 0.90764547 0.92505858 0.92715372 0.94112144\n",
            " 0.9473138  0.94656884 0.94945548 0.94894333 0.94023681 0.95099194\n",
            " 0.95257493 0.95653247 0.94936241 0.96472684 0.96104871 0.93204244\n",
            " 0.92310311 0.93022664 0.92296344 0.92338245 0.91965771 0.93153029\n",
            " 0.93204244 0.93078532 0.90201186 0.90420007 0.92235815 0.96044342\n",
            " 0.95732397 0.94926927 0.95345956 0.94880365 0.95415799 0.95541503\n",
            " 0.97967233 0.94805876 0.95071259 0.94554453 0.95080573 0.92701405\n",
            " 0.94601015 0.96356287 0.96123491 0.95429766 0.9717573  1.\n",
            " 0.92268646 0.8587659  0.80431092 0.76259935 0.72952658 0.70225263\n",
            " 0.67909276 0.65903914 0.64151716 0.6262424 ]\n",
            "10 day output [[0.61310935]]\n",
            "11 day input [0.7939948  0.85931715 0.88688017 0.89232757 0.88417974 0.90364139\n",
            " 0.89256031 0.87109658 0.86090021 0.86392652 0.86825655 0.8877182\n",
            " 0.89167575 0.87547315 0.90401387 0.92040267 0.92636223 0.94866398\n",
            " 0.95555477 0.95955878 0.97957919 0.9543908  0.96821877 0.98619057\n",
            " 0.98814611 0.96049002 0.93860721 0.9392125  0.93758298 0.94247162\n",
            " 0.91234791 0.90745926 0.90964754 0.91095119 0.91355849 0.92882985\n",
            " 0.91150988 0.91849374 0.86918772 0.85968963 0.87174848 0.88799754\n",
            " 0.90163938 0.90764547 0.92505858 0.92715372 0.94112144 0.9473138\n",
            " 0.94656884 0.94945548 0.94894333 0.94023681 0.95099194 0.95257493\n",
            " 0.95653247 0.94936241 0.96472684 0.96104871 0.93204244 0.92310311\n",
            " 0.93022664 0.92296344 0.92338245 0.91965771 0.93153029 0.93204244\n",
            " 0.93078532 0.90201186 0.90420007 0.92235815 0.96044342 0.95732397\n",
            " 0.94926927 0.95345956 0.94880365 0.95415799 0.95541503 0.97967233\n",
            " 0.94805876 0.95071259 0.94554453 0.95080573 0.92701405 0.94601015\n",
            " 0.96356287 0.96123491 0.95429766 0.9717573  1.         0.92268646\n",
            " 0.8587659  0.80431092 0.76259935 0.72952658 0.70225263 0.67909276\n",
            " 0.65903914 0.64151716 0.6262424  0.61310935]\n",
            "11 day output [[0.6021031]]\n",
            "12 day input [0.85931715 0.88688017 0.89232757 0.88417974 0.90364139 0.89256031\n",
            " 0.87109658 0.86090021 0.86392652 0.86825655 0.8877182  0.89167575\n",
            " 0.87547315 0.90401387 0.92040267 0.92636223 0.94866398 0.95555477\n",
            " 0.95955878 0.97957919 0.9543908  0.96821877 0.98619057 0.98814611\n",
            " 0.96049002 0.93860721 0.9392125  0.93758298 0.94247162 0.91234791\n",
            " 0.90745926 0.90964754 0.91095119 0.91355849 0.92882985 0.91150988\n",
            " 0.91849374 0.86918772 0.85968963 0.87174848 0.88799754 0.90163938\n",
            " 0.90764547 0.92505858 0.92715372 0.94112144 0.9473138  0.94656884\n",
            " 0.94945548 0.94894333 0.94023681 0.95099194 0.95257493 0.95653247\n",
            " 0.94936241 0.96472684 0.96104871 0.93204244 0.92310311 0.93022664\n",
            " 0.92296344 0.92338245 0.91965771 0.93153029 0.93204244 0.93078532\n",
            " 0.90201186 0.90420007 0.92235815 0.96044342 0.95732397 0.94926927\n",
            " 0.95345956 0.94880365 0.95415799 0.95541503 0.97967233 0.94805876\n",
            " 0.95071259 0.94554453 0.95080573 0.92701405 0.94601015 0.96356287\n",
            " 0.96123491 0.95429766 0.9717573  1.         0.92268646 0.8587659\n",
            " 0.80431092 0.76259935 0.72952658 0.70225263 0.67909276 0.65903914\n",
            " 0.64151716 0.6262424  0.61310935 0.60210311]\n",
            "12 day output [[0.59323865]]\n",
            "13 day input [0.88688017 0.89232757 0.88417974 0.90364139 0.89256031 0.87109658\n",
            " 0.86090021 0.86392652 0.86825655 0.8877182  0.89167575 0.87547315\n",
            " 0.90401387 0.92040267 0.92636223 0.94866398 0.95555477 0.95955878\n",
            " 0.97957919 0.9543908  0.96821877 0.98619057 0.98814611 0.96049002\n",
            " 0.93860721 0.9392125  0.93758298 0.94247162 0.91234791 0.90745926\n",
            " 0.90964754 0.91095119 0.91355849 0.92882985 0.91150988 0.91849374\n",
            " 0.86918772 0.85968963 0.87174848 0.88799754 0.90163938 0.90764547\n",
            " 0.92505858 0.92715372 0.94112144 0.9473138  0.94656884 0.94945548\n",
            " 0.94894333 0.94023681 0.95099194 0.95257493 0.95653247 0.94936241\n",
            " 0.96472684 0.96104871 0.93204244 0.92310311 0.93022664 0.92296344\n",
            " 0.92338245 0.91965771 0.93153029 0.93204244 0.93078532 0.90201186\n",
            " 0.90420007 0.92235815 0.96044342 0.95732397 0.94926927 0.95345956\n",
            " 0.94880365 0.95415799 0.95541503 0.97967233 0.94805876 0.95071259\n",
            " 0.94554453 0.95080573 0.92701405 0.94601015 0.96356287 0.96123491\n",
            " 0.95429766 0.9717573  1.         0.92268646 0.8587659  0.80431092\n",
            " 0.76259935 0.72952658 0.70225263 0.67909276 0.65903914 0.64151716\n",
            " 0.6262424  0.61310935 0.60210311 0.59323865]\n",
            "13 day output [[0.5865178]]\n",
            "14 day input [0.89232757 0.88417974 0.90364139 0.89256031 0.87109658 0.86090021\n",
            " 0.86392652 0.86825655 0.8877182  0.89167575 0.87547315 0.90401387\n",
            " 0.92040267 0.92636223 0.94866398 0.95555477 0.95955878 0.97957919\n",
            " 0.9543908  0.96821877 0.98619057 0.98814611 0.96049002 0.93860721\n",
            " 0.9392125  0.93758298 0.94247162 0.91234791 0.90745926 0.90964754\n",
            " 0.91095119 0.91355849 0.92882985 0.91150988 0.91849374 0.86918772\n",
            " 0.85968963 0.87174848 0.88799754 0.90163938 0.90764547 0.92505858\n",
            " 0.92715372 0.94112144 0.9473138  0.94656884 0.94945548 0.94894333\n",
            " 0.94023681 0.95099194 0.95257493 0.95653247 0.94936241 0.96472684\n",
            " 0.96104871 0.93204244 0.92310311 0.93022664 0.92296344 0.92338245\n",
            " 0.91965771 0.93153029 0.93204244 0.93078532 0.90201186 0.90420007\n",
            " 0.92235815 0.96044342 0.95732397 0.94926927 0.95345956 0.94880365\n",
            " 0.95415799 0.95541503 0.97967233 0.94805876 0.95071259 0.94554453\n",
            " 0.95080573 0.92701405 0.94601015 0.96356287 0.96123491 0.95429766\n",
            " 0.9717573  1.         0.92268646 0.8587659  0.80431092 0.76259935\n",
            " 0.72952658 0.70225263 0.67909276 0.65903914 0.64151716 0.6262424\n",
            " 0.61310935 0.60210311 0.59323865 0.58651781]\n",
            "14 day output [[0.58190536]]\n",
            "15 day input [0.88417974 0.90364139 0.89256031 0.87109658 0.86090021 0.86392652\n",
            " 0.86825655 0.8877182  0.89167575 0.87547315 0.90401387 0.92040267\n",
            " 0.92636223 0.94866398 0.95555477 0.95955878 0.97957919 0.9543908\n",
            " 0.96821877 0.98619057 0.98814611 0.96049002 0.93860721 0.9392125\n",
            " 0.93758298 0.94247162 0.91234791 0.90745926 0.90964754 0.91095119\n",
            " 0.91355849 0.92882985 0.91150988 0.91849374 0.86918772 0.85968963\n",
            " 0.87174848 0.88799754 0.90163938 0.90764547 0.92505858 0.92715372\n",
            " 0.94112144 0.9473138  0.94656884 0.94945548 0.94894333 0.94023681\n",
            " 0.95099194 0.95257493 0.95653247 0.94936241 0.96472684 0.96104871\n",
            " 0.93204244 0.92310311 0.93022664 0.92296344 0.92338245 0.91965771\n",
            " 0.93153029 0.93204244 0.93078532 0.90201186 0.90420007 0.92235815\n",
            " 0.96044342 0.95732397 0.94926927 0.95345956 0.94880365 0.95415799\n",
            " 0.95541503 0.97967233 0.94805876 0.95071259 0.94554453 0.95080573\n",
            " 0.92701405 0.94601015 0.96356287 0.96123491 0.95429766 0.9717573\n",
            " 1.         0.92268646 0.8587659  0.80431092 0.76259935 0.72952658\n",
            " 0.70225263 0.67909276 0.65903914 0.64151716 0.6262424  0.61310935\n",
            " 0.60210311 0.59323865 0.58651781 0.58190536]\n",
            "15 day output [[0.5793159]]\n",
            "16 day input [0.90364139 0.89256031 0.87109658 0.86090021 0.86392652 0.86825655\n",
            " 0.8877182  0.89167575 0.87547315 0.90401387 0.92040267 0.92636223\n",
            " 0.94866398 0.95555477 0.95955878 0.97957919 0.9543908  0.96821877\n",
            " 0.98619057 0.98814611 0.96049002 0.93860721 0.9392125  0.93758298\n",
            " 0.94247162 0.91234791 0.90745926 0.90964754 0.91095119 0.91355849\n",
            " 0.92882985 0.91150988 0.91849374 0.86918772 0.85968963 0.87174848\n",
            " 0.88799754 0.90163938 0.90764547 0.92505858 0.92715372 0.94112144\n",
            " 0.9473138  0.94656884 0.94945548 0.94894333 0.94023681 0.95099194\n",
            " 0.95257493 0.95653247 0.94936241 0.96472684 0.96104871 0.93204244\n",
            " 0.92310311 0.93022664 0.92296344 0.92338245 0.91965771 0.93153029\n",
            " 0.93204244 0.93078532 0.90201186 0.90420007 0.92235815 0.96044342\n",
            " 0.95732397 0.94926927 0.95345956 0.94880365 0.95415799 0.95541503\n",
            " 0.97967233 0.94805876 0.95071259 0.94554453 0.95080573 0.92701405\n",
            " 0.94601015 0.96356287 0.96123491 0.95429766 0.9717573  1.\n",
            " 0.92268646 0.8587659  0.80431092 0.76259935 0.72952658 0.70225263\n",
            " 0.67909276 0.65903914 0.64151716 0.6262424  0.61310935 0.60210311\n",
            " 0.59323865 0.58651781 0.58190536 0.5793159 ]\n",
            "16 day output [[0.5786114]]\n",
            "17 day input [0.89256031 0.87109658 0.86090021 0.86392652 0.86825655 0.8877182\n",
            " 0.89167575 0.87547315 0.90401387 0.92040267 0.92636223 0.94866398\n",
            " 0.95555477 0.95955878 0.97957919 0.9543908  0.96821877 0.98619057\n",
            " 0.98814611 0.96049002 0.93860721 0.9392125  0.93758298 0.94247162\n",
            " 0.91234791 0.90745926 0.90964754 0.91095119 0.91355849 0.92882985\n",
            " 0.91150988 0.91849374 0.86918772 0.85968963 0.87174848 0.88799754\n",
            " 0.90163938 0.90764547 0.92505858 0.92715372 0.94112144 0.9473138\n",
            " 0.94656884 0.94945548 0.94894333 0.94023681 0.95099194 0.95257493\n",
            " 0.95653247 0.94936241 0.96472684 0.96104871 0.93204244 0.92310311\n",
            " 0.93022664 0.92296344 0.92338245 0.91965771 0.93153029 0.93204244\n",
            " 0.93078532 0.90201186 0.90420007 0.92235815 0.96044342 0.95732397\n",
            " 0.94926927 0.95345956 0.94880365 0.95415799 0.95541503 0.97967233\n",
            " 0.94805876 0.95071259 0.94554453 0.95080573 0.92701405 0.94601015\n",
            " 0.96356287 0.96123491 0.95429766 0.9717573  1.         0.92268646\n",
            " 0.8587659  0.80431092 0.76259935 0.72952658 0.70225263 0.67909276\n",
            " 0.65903914 0.64151716 0.6262424  0.61310935 0.60210311 0.59323865\n",
            " 0.58651781 0.58190536 0.5793159  0.57861137]\n",
            "17 day output [[0.579606]]\n",
            "18 day input [0.87109658 0.86090021 0.86392652 0.86825655 0.8877182  0.89167575\n",
            " 0.87547315 0.90401387 0.92040267 0.92636223 0.94866398 0.95555477\n",
            " 0.95955878 0.97957919 0.9543908  0.96821877 0.98619057 0.98814611\n",
            " 0.96049002 0.93860721 0.9392125  0.93758298 0.94247162 0.91234791\n",
            " 0.90745926 0.90964754 0.91095119 0.91355849 0.92882985 0.91150988\n",
            " 0.91849374 0.86918772 0.85968963 0.87174848 0.88799754 0.90163938\n",
            " 0.90764547 0.92505858 0.92715372 0.94112144 0.9473138  0.94656884\n",
            " 0.94945548 0.94894333 0.94023681 0.95099194 0.95257493 0.95653247\n",
            " 0.94936241 0.96472684 0.96104871 0.93204244 0.92310311 0.93022664\n",
            " 0.92296344 0.92338245 0.91965771 0.93153029 0.93204244 0.93078532\n",
            " 0.90201186 0.90420007 0.92235815 0.96044342 0.95732397 0.94926927\n",
            " 0.95345956 0.94880365 0.95415799 0.95541503 0.97967233 0.94805876\n",
            " 0.95071259 0.94554453 0.95080573 0.92701405 0.94601015 0.96356287\n",
            " 0.96123491 0.95429766 0.9717573  1.         0.92268646 0.8587659\n",
            " 0.80431092 0.76259935 0.72952658 0.70225263 0.67909276 0.65903914\n",
            " 0.64151716 0.6262424  0.61310935 0.60210311 0.59323865 0.58651781\n",
            " 0.58190536 0.5793159  0.57861137 0.579606  ]\n",
            "18 day output [[0.58207595]]\n",
            "19 day input [0.86090021 0.86392652 0.86825655 0.8877182  0.89167575 0.87547315\n",
            " 0.90401387 0.92040267 0.92636223 0.94866398 0.95555477 0.95955878\n",
            " 0.97957919 0.9543908  0.96821877 0.98619057 0.98814611 0.96049002\n",
            " 0.93860721 0.9392125  0.93758298 0.94247162 0.91234791 0.90745926\n",
            " 0.90964754 0.91095119 0.91355849 0.92882985 0.91150988 0.91849374\n",
            " 0.86918772 0.85968963 0.87174848 0.88799754 0.90163938 0.90764547\n",
            " 0.92505858 0.92715372 0.94112144 0.9473138  0.94656884 0.94945548\n",
            " 0.94894333 0.94023681 0.95099194 0.95257493 0.95653247 0.94936241\n",
            " 0.96472684 0.96104871 0.93204244 0.92310311 0.93022664 0.92296344\n",
            " 0.92338245 0.91965771 0.93153029 0.93204244 0.93078532 0.90201186\n",
            " 0.90420007 0.92235815 0.96044342 0.95732397 0.94926927 0.95345956\n",
            " 0.94880365 0.95415799 0.95541503 0.97967233 0.94805876 0.95071259\n",
            " 0.94554453 0.95080573 0.92701405 0.94601015 0.96356287 0.96123491\n",
            " 0.95429766 0.9717573  1.         0.92268646 0.8587659  0.80431092\n",
            " 0.76259935 0.72952658 0.70225263 0.67909276 0.65903914 0.64151716\n",
            " 0.6262424  0.61310935 0.60210311 0.59323865 0.58651781 0.58190536\n",
            " 0.5793159  0.57861137 0.579606   0.58207595]\n",
            "19 day output [[0.5857711]]\n",
            "20 day input [0.86392652 0.86825655 0.8877182  0.89167575 0.87547315 0.90401387\n",
            " 0.92040267 0.92636223 0.94866398 0.95555477 0.95955878 0.97957919\n",
            " 0.9543908  0.96821877 0.98619057 0.98814611 0.96049002 0.93860721\n",
            " 0.9392125  0.93758298 0.94247162 0.91234791 0.90745926 0.90964754\n",
            " 0.91095119 0.91355849 0.92882985 0.91150988 0.91849374 0.86918772\n",
            " 0.85968963 0.87174848 0.88799754 0.90163938 0.90764547 0.92505858\n",
            " 0.92715372 0.94112144 0.9473138  0.94656884 0.94945548 0.94894333\n",
            " 0.94023681 0.95099194 0.95257493 0.95653247 0.94936241 0.96472684\n",
            " 0.96104871 0.93204244 0.92310311 0.93022664 0.92296344 0.92338245\n",
            " 0.91965771 0.93153029 0.93204244 0.93078532 0.90201186 0.90420007\n",
            " 0.92235815 0.96044342 0.95732397 0.94926927 0.95345956 0.94880365\n",
            " 0.95415799 0.95541503 0.97967233 0.94805876 0.95071259 0.94554453\n",
            " 0.95080573 0.92701405 0.94601015 0.96356287 0.96123491 0.95429766\n",
            " 0.9717573  1.         0.92268646 0.8587659  0.80431092 0.76259935\n",
            " 0.72952658 0.70225263 0.67909276 0.65903914 0.64151716 0.6262424\n",
            " 0.61310935 0.60210311 0.59323865 0.58651781 0.58190536 0.5793159\n",
            " 0.57861137 0.579606   0.58207595 0.58577108]\n",
            "20 day output [[0.5904291]]\n",
            "21 day input [0.86825655 0.8877182  0.89167575 0.87547315 0.90401387 0.92040267\n",
            " 0.92636223 0.94866398 0.95555477 0.95955878 0.97957919 0.9543908\n",
            " 0.96821877 0.98619057 0.98814611 0.96049002 0.93860721 0.9392125\n",
            " 0.93758298 0.94247162 0.91234791 0.90745926 0.90964754 0.91095119\n",
            " 0.91355849 0.92882985 0.91150988 0.91849374 0.86918772 0.85968963\n",
            " 0.87174848 0.88799754 0.90163938 0.90764547 0.92505858 0.92715372\n",
            " 0.94112144 0.9473138  0.94656884 0.94945548 0.94894333 0.94023681\n",
            " 0.95099194 0.95257493 0.95653247 0.94936241 0.96472684 0.96104871\n",
            " 0.93204244 0.92310311 0.93022664 0.92296344 0.92338245 0.91965771\n",
            " 0.93153029 0.93204244 0.93078532 0.90201186 0.90420007 0.92235815\n",
            " 0.96044342 0.95732397 0.94926927 0.95345956 0.94880365 0.95415799\n",
            " 0.95541503 0.97967233 0.94805876 0.95071259 0.94554453 0.95080573\n",
            " 0.92701405 0.94601015 0.96356287 0.96123491 0.95429766 0.9717573\n",
            " 1.         0.92268646 0.8587659  0.80431092 0.76259935 0.72952658\n",
            " 0.70225263 0.67909276 0.65903914 0.64151716 0.6262424  0.61310935\n",
            " 0.60210311 0.59323865 0.58651781 0.58190536 0.5793159  0.57861137\n",
            " 0.579606   0.58207595 0.58577108 0.59042913]\n",
            "21 day output [[0.5957871]]\n",
            "22 day input [0.8877182  0.89167575 0.87547315 0.90401387 0.92040267 0.92636223\n",
            " 0.94866398 0.95555477 0.95955878 0.97957919 0.9543908  0.96821877\n",
            " 0.98619057 0.98814611 0.96049002 0.93860721 0.9392125  0.93758298\n",
            " 0.94247162 0.91234791 0.90745926 0.90964754 0.91095119 0.91355849\n",
            " 0.92882985 0.91150988 0.91849374 0.86918772 0.85968963 0.87174848\n",
            " 0.88799754 0.90163938 0.90764547 0.92505858 0.92715372 0.94112144\n",
            " 0.9473138  0.94656884 0.94945548 0.94894333 0.94023681 0.95099194\n",
            " 0.95257493 0.95653247 0.94936241 0.96472684 0.96104871 0.93204244\n",
            " 0.92310311 0.93022664 0.92296344 0.92338245 0.91965771 0.93153029\n",
            " 0.93204244 0.93078532 0.90201186 0.90420007 0.92235815 0.96044342\n",
            " 0.95732397 0.94926927 0.95345956 0.94880365 0.95415799 0.95541503\n",
            " 0.97967233 0.94805876 0.95071259 0.94554453 0.95080573 0.92701405\n",
            " 0.94601015 0.96356287 0.96123491 0.95429766 0.9717573  1.\n",
            " 0.92268646 0.8587659  0.80431092 0.76259935 0.72952658 0.70225263\n",
            " 0.67909276 0.65903914 0.64151716 0.6262424  0.61310935 0.60210311\n",
            " 0.59323865 0.58651781 0.58190536 0.5793159  0.57861137 0.579606\n",
            " 0.58207595 0.58577108 0.59042913 0.59578711]\n",
            "22 day output [[0.6015926]]\n",
            "23 day input [0.89167575 0.87547315 0.90401387 0.92040267 0.92636223 0.94866398\n",
            " 0.95555477 0.95955878 0.97957919 0.9543908  0.96821877 0.98619057\n",
            " 0.98814611 0.96049002 0.93860721 0.9392125  0.93758298 0.94247162\n",
            " 0.91234791 0.90745926 0.90964754 0.91095119 0.91355849 0.92882985\n",
            " 0.91150988 0.91849374 0.86918772 0.85968963 0.87174848 0.88799754\n",
            " 0.90163938 0.90764547 0.92505858 0.92715372 0.94112144 0.9473138\n",
            " 0.94656884 0.94945548 0.94894333 0.94023681 0.95099194 0.95257493\n",
            " 0.95653247 0.94936241 0.96472684 0.96104871 0.93204244 0.92310311\n",
            " 0.93022664 0.92296344 0.92338245 0.91965771 0.93153029 0.93204244\n",
            " 0.93078532 0.90201186 0.90420007 0.92235815 0.96044342 0.95732397\n",
            " 0.94926927 0.95345956 0.94880365 0.95415799 0.95541503 0.97967233\n",
            " 0.94805876 0.95071259 0.94554453 0.95080573 0.92701405 0.94601015\n",
            " 0.96356287 0.96123491 0.95429766 0.9717573  1.         0.92268646\n",
            " 0.8587659  0.80431092 0.76259935 0.72952658 0.70225263 0.67909276\n",
            " 0.65903914 0.64151716 0.6262424  0.61310935 0.60210311 0.59323865\n",
            " 0.58651781 0.58190536 0.5793159  0.57861137 0.579606   0.58207595\n",
            " 0.58577108 0.59042913 0.59578711 0.6015926 ]\n",
            "23 day output [[0.6076121]]\n",
            "24 day input [0.87547315 0.90401387 0.92040267 0.92636223 0.94866398 0.95555477\n",
            " 0.95955878 0.97957919 0.9543908  0.96821877 0.98619057 0.98814611\n",
            " 0.96049002 0.93860721 0.9392125  0.93758298 0.94247162 0.91234791\n",
            " 0.90745926 0.90964754 0.91095119 0.91355849 0.92882985 0.91150988\n",
            " 0.91849374 0.86918772 0.85968963 0.87174848 0.88799754 0.90163938\n",
            " 0.90764547 0.92505858 0.92715372 0.94112144 0.9473138  0.94656884\n",
            " 0.94945548 0.94894333 0.94023681 0.95099194 0.95257493 0.95653247\n",
            " 0.94936241 0.96472684 0.96104871 0.93204244 0.92310311 0.93022664\n",
            " 0.92296344 0.92338245 0.91965771 0.93153029 0.93204244 0.93078532\n",
            " 0.90201186 0.90420007 0.92235815 0.96044342 0.95732397 0.94926927\n",
            " 0.95345956 0.94880365 0.95415799 0.95541503 0.97967233 0.94805876\n",
            " 0.95071259 0.94554453 0.95080573 0.92701405 0.94601015 0.96356287\n",
            " 0.96123491 0.95429766 0.9717573  1.         0.92268646 0.8587659\n",
            " 0.80431092 0.76259935 0.72952658 0.70225263 0.67909276 0.65903914\n",
            " 0.64151716 0.6262424  0.61310935 0.60210311 0.59323865 0.58651781\n",
            " 0.58190536 0.5793159  0.57861137 0.579606   0.58207595 0.58577108\n",
            " 0.59042913 0.59578711 0.6015926  0.60761207]\n",
            "24 day output [[0.61363554]]\n",
            "25 day input [0.90401387 0.92040267 0.92636223 0.94866398 0.95555477 0.95955878\n",
            " 0.97957919 0.9543908  0.96821877 0.98619057 0.98814611 0.96049002\n",
            " 0.93860721 0.9392125  0.93758298 0.94247162 0.91234791 0.90745926\n",
            " 0.90964754 0.91095119 0.91355849 0.92882985 0.91150988 0.91849374\n",
            " 0.86918772 0.85968963 0.87174848 0.88799754 0.90163938 0.90764547\n",
            " 0.92505858 0.92715372 0.94112144 0.9473138  0.94656884 0.94945548\n",
            " 0.94894333 0.94023681 0.95099194 0.95257493 0.95653247 0.94936241\n",
            " 0.96472684 0.96104871 0.93204244 0.92310311 0.93022664 0.92296344\n",
            " 0.92338245 0.91965771 0.93153029 0.93204244 0.93078532 0.90201186\n",
            " 0.90420007 0.92235815 0.96044342 0.95732397 0.94926927 0.95345956\n",
            " 0.94880365 0.95415799 0.95541503 0.97967233 0.94805876 0.95071259\n",
            " 0.94554453 0.95080573 0.92701405 0.94601015 0.96356287 0.96123491\n",
            " 0.95429766 0.9717573  1.         0.92268646 0.8587659  0.80431092\n",
            " 0.76259935 0.72952658 0.70225263 0.67909276 0.65903914 0.64151716\n",
            " 0.6262424  0.61310935 0.60210311 0.59323865 0.58651781 0.58190536\n",
            " 0.5793159  0.57861137 0.579606   0.58207595 0.58577108 0.59042913\n",
            " 0.59578711 0.6015926  0.60761207 0.61363554]\n",
            "25 day output [[0.61947966]]\n",
            "26 day input [0.92040267 0.92636223 0.94866398 0.95555477 0.95955878 0.97957919\n",
            " 0.9543908  0.96821877 0.98619057 0.98814611 0.96049002 0.93860721\n",
            " 0.9392125  0.93758298 0.94247162 0.91234791 0.90745926 0.90964754\n",
            " 0.91095119 0.91355849 0.92882985 0.91150988 0.91849374 0.86918772\n",
            " 0.85968963 0.87174848 0.88799754 0.90163938 0.90764547 0.92505858\n",
            " 0.92715372 0.94112144 0.9473138  0.94656884 0.94945548 0.94894333\n",
            " 0.94023681 0.95099194 0.95257493 0.95653247 0.94936241 0.96472684\n",
            " 0.96104871 0.93204244 0.92310311 0.93022664 0.92296344 0.92338245\n",
            " 0.91965771 0.93153029 0.93204244 0.93078532 0.90201186 0.90420007\n",
            " 0.92235815 0.96044342 0.95732397 0.94926927 0.95345956 0.94880365\n",
            " 0.95415799 0.95541503 0.97967233 0.94805876 0.95071259 0.94554453\n",
            " 0.95080573 0.92701405 0.94601015 0.96356287 0.96123491 0.95429766\n",
            " 0.9717573  1.         0.92268646 0.8587659  0.80431092 0.76259935\n",
            " 0.72952658 0.70225263 0.67909276 0.65903914 0.64151716 0.6262424\n",
            " 0.61310935 0.60210311 0.59323865 0.58651781 0.58190536 0.5793159\n",
            " 0.57861137 0.579606   0.58207595 0.58577108 0.59042913 0.59578711\n",
            " 0.6015926  0.60761207 0.61363554 0.61947966]\n",
            "26 day output [[0.62498915]]\n",
            "27 day input [0.92636223 0.94866398 0.95555477 0.95955878 0.97957919 0.9543908\n",
            " 0.96821877 0.98619057 0.98814611 0.96049002 0.93860721 0.9392125\n",
            " 0.93758298 0.94247162 0.91234791 0.90745926 0.90964754 0.91095119\n",
            " 0.91355849 0.92882985 0.91150988 0.91849374 0.86918772 0.85968963\n",
            " 0.87174848 0.88799754 0.90163938 0.90764547 0.92505858 0.92715372\n",
            " 0.94112144 0.9473138  0.94656884 0.94945548 0.94894333 0.94023681\n",
            " 0.95099194 0.95257493 0.95653247 0.94936241 0.96472684 0.96104871\n",
            " 0.93204244 0.92310311 0.93022664 0.92296344 0.92338245 0.91965771\n",
            " 0.93153029 0.93204244 0.93078532 0.90201186 0.90420007 0.92235815\n",
            " 0.96044342 0.95732397 0.94926927 0.95345956 0.94880365 0.95415799\n",
            " 0.95541503 0.97967233 0.94805876 0.95071259 0.94554453 0.95080573\n",
            " 0.92701405 0.94601015 0.96356287 0.96123491 0.95429766 0.9717573\n",
            " 1.         0.92268646 0.8587659  0.80431092 0.76259935 0.72952658\n",
            " 0.70225263 0.67909276 0.65903914 0.64151716 0.6262424  0.61310935\n",
            " 0.60210311 0.59323865 0.58651781 0.58190536 0.5793159  0.57861137\n",
            " 0.579606   0.58207595 0.58577108 0.59042913 0.59578711 0.6015926\n",
            " 0.60761207 0.61363554 0.61947966 0.62498915]\n",
            "27 day output [[0.6300347]]\n",
            "28 day input [0.94866398 0.95555477 0.95955878 0.97957919 0.9543908  0.96821877\n",
            " 0.98619057 0.98814611 0.96049002 0.93860721 0.9392125  0.93758298\n",
            " 0.94247162 0.91234791 0.90745926 0.90964754 0.91095119 0.91355849\n",
            " 0.92882985 0.91150988 0.91849374 0.86918772 0.85968963 0.87174848\n",
            " 0.88799754 0.90163938 0.90764547 0.92505858 0.92715372 0.94112144\n",
            " 0.9473138  0.94656884 0.94945548 0.94894333 0.94023681 0.95099194\n",
            " 0.95257493 0.95653247 0.94936241 0.96472684 0.96104871 0.93204244\n",
            " 0.92310311 0.93022664 0.92296344 0.92338245 0.91965771 0.93153029\n",
            " 0.93204244 0.93078532 0.90201186 0.90420007 0.92235815 0.96044342\n",
            " 0.95732397 0.94926927 0.95345956 0.94880365 0.95415799 0.95541503\n",
            " 0.97967233 0.94805876 0.95071259 0.94554453 0.95080573 0.92701405\n",
            " 0.94601015 0.96356287 0.96123491 0.95429766 0.9717573  1.\n",
            " 0.92268646 0.8587659  0.80431092 0.76259935 0.72952658 0.70225263\n",
            " 0.67909276 0.65903914 0.64151716 0.6262424  0.61310935 0.60210311\n",
            " 0.59323865 0.58651781 0.58190536 0.5793159  0.57861137 0.579606\n",
            " 0.58207595 0.58577108 0.59042913 0.59578711 0.6015926  0.60761207\n",
            " 0.61363554 0.61947966 0.62498915 0.63003469]\n",
            "28 day output [[0.6345129]]\n",
            "29 day input [0.95555477 0.95955878 0.97957919 0.9543908  0.96821877 0.98619057\n",
            " 0.98814611 0.96049002 0.93860721 0.9392125  0.93758298 0.94247162\n",
            " 0.91234791 0.90745926 0.90964754 0.91095119 0.91355849 0.92882985\n",
            " 0.91150988 0.91849374 0.86918772 0.85968963 0.87174848 0.88799754\n",
            " 0.90163938 0.90764547 0.92505858 0.92715372 0.94112144 0.9473138\n",
            " 0.94656884 0.94945548 0.94894333 0.94023681 0.95099194 0.95257493\n",
            " 0.95653247 0.94936241 0.96472684 0.96104871 0.93204244 0.92310311\n",
            " 0.93022664 0.92296344 0.92338245 0.91965771 0.93153029 0.93204244\n",
            " 0.93078532 0.90201186 0.90420007 0.92235815 0.96044342 0.95732397\n",
            " 0.94926927 0.95345956 0.94880365 0.95415799 0.95541503 0.97967233\n",
            " 0.94805876 0.95071259 0.94554453 0.95080573 0.92701405 0.94601015\n",
            " 0.96356287 0.96123491 0.95429766 0.9717573  1.         0.92268646\n",
            " 0.8587659  0.80431092 0.76259935 0.72952658 0.70225263 0.67909276\n",
            " 0.65903914 0.64151716 0.6262424  0.61310935 0.60210311 0.59323865\n",
            " 0.58651781 0.58190536 0.5793159  0.57861137 0.579606   0.58207595\n",
            " 0.58577108 0.59042913 0.59578711 0.6015926  0.60761207 0.61363554\n",
            " 0.61947966 0.62498915 0.63003469 0.6345129 ]\n",
            "29 day output [[0.63834476]]\n",
            "[[0.9226864576339722], [0.8587659001350403], [0.8043109178543091], [0.7625993490219116], [0.7295265793800354], [0.7022526264190674], [0.6790927648544312], [0.6590391397476196], [0.641517162322998], [0.6262423992156982], [0.6131093502044678], [0.6021031141281128], [0.5932386517524719], [0.5865178108215332], [0.5819053649902344], [0.5793159008026123], [0.5786113739013672], [0.5796059966087341], [0.5820759534835815], [0.5857710838317871], [0.5904291272163391], [0.5957871079444885], [0.6015926003456116], [0.6076120734214783], [0.6136355400085449], [0.6194796562194824], [0.6249891519546509], [0.6300346851348877], [0.6345129013061523], [0.6383447647094727]]\n"
          ]
        }
      ]
    },
    {
      "cell_type": "code",
      "source": [
        "# plotting\n",
        "day_new = np.arange(1, 101)\n",
        "day_pred = np.arange(101, 131)"
      ],
      "metadata": {
        "id": "9COSV93layjt"
      },
      "execution_count": 93,
      "outputs": []
    },
    {
      "cell_type": "code",
      "source": [
        "len(df)"
      ],
      "metadata": {
        "colab": {
          "base_uri": "https://localhost:8080/"
        },
        "id": "VLCfOOPIa4gB",
        "outputId": "214c3436-0470-4e96-eb0e-c23b91fa6952"
      },
      "execution_count": 94,
      "outputs": [
        {
          "output_type": "execute_result",
          "data": {
            "text/plain": [
              "2463"
            ]
          },
          "metadata": {},
          "execution_count": 94
        }
      ]
    },
    {
      "cell_type": "code",
      "source": [
        "plt.plot(day_new, scaler.inverse_transform(df[len(df)-100:]))\n",
        "plt.plot(day_pred, scaler.inverse_transform(lst_output), c='r')"
      ],
      "metadata": {
        "colab": {
          "base_uri": "https://localhost:8080/",
          "height": 447
        },
        "id": "V9E1Aq5EeVpF",
        "outputId": "879fbac0-5e9e-406d-adc6-598e9bd6c2b4"
      },
      "execution_count": 95,
      "outputs": [
        {
          "output_type": "execute_result",
          "data": {
            "text/plain": [
              "[<matplotlib.lines.Line2D at 0x7ea957d485b0>]"
            ]
          },
          "metadata": {},
          "execution_count": 95
        },
        {
          "output_type": "display_data",
          "data": {
            "text/plain": [
              "<Figure size 640x480 with 1 Axes>"
            ],
            "image/png": "[encoded data removed]"
          },
          "metadata": {}
        }
      ]
    },
    {
      "cell_type": "code",
      "source": [
        "df3 = df.tolist()\n",
        "df3.extend(lst_output)\n",
        "plt.plot(df3[1500:])"
      ],
      "metadata": {
        "colab": {
          "base_uri": "https://localhost:8080/",
          "height": 447
        },
        "id": "UfpId0ZkbAPJ",
        "outputId": "7b0f051d-d337-43e0-c5fc-6c0e8289abc9"
      },
      "execution_count": 96,
      "outputs": [
        {
          "output_type": "execute_result",
          "data": {
            "text/plain": [
              "[<matplotlib.lines.Line2D at 0x7ea957b939a0>]"
            ]
          },
          "metadata": {},
          "execution_count": 96
        },
        {
          "output_type": "display_data",
          "data": {
            "text/plain": [
              "<Figure size 640x480 with 1 Axes>"
            ],
            "image/png": "[encoded data removed]"
          },
          "metadata": {}
        }
      ]
    },
    {
      "cell_type": "code",
      "source": [
        "# inverse transfrom lst_output\n",
        "\n",
        "lst = scaler.inverse_transform(lst_output)\n",
        "for i in range(len(lst)):\n",
        "  print(f'Day {i+1} : {lst[i][0]}')"
      ],
      "metadata": {
        "colab": {
          "base_uri": "https://localhost:8080/"
        },
        "id": "dIk_mj1jbmtl",
        "outputId": "6e8f2015-c04e-414c-93ea-4d7d00177ad9"
      },
      "execution_count": 99,
      "outputs": [
        {
          "output_type": "stream",
          "name": "stdout",
          "text": [
            "Day 1 : 220.7605175083818\n",
            "Day 2 : 207.03159636134433\n",
            "Day 3 : 195.33570090849298\n",
            "Day 4 : 186.3768485169321\n",
            "Day 5 : 179.27344603901975\n",
            "Day 6 : 173.4155191963855\n",
            "Day 7 : 168.44122101066478\n",
            "Day 8 : 164.134083392094\n",
            "Day 9 : 160.3706955898706\n",
            "Day 10 : 157.08996672195826\n",
            "Day 11 : 154.26923734552292\n",
            "Day 12 : 151.90530697428858\n",
            "Day 13 : 150.00138889647633\n",
            "Day 14 : 148.5578799723844\n",
            "Day 15 : 147.56721425245632\n",
            "Day 16 : 147.01104654935807\n",
            "Day 17 : 146.85972755822877\n",
            "Day 18 : 147.07335361617925\n",
            "Day 19 : 147.60385341934398\n",
            "Day 20 : 148.39749720412146\n",
            "Day 21 : 149.3979564120541\n",
            "Day 22 : 150.54874886134303\n",
            "Day 23 : 151.7956583144728\n",
            "Day 24 : 153.08852675052594\n",
            "Day 25 : 154.38225291690105\n",
            "Day 26 : 155.63745803045822\n",
            "Day 27 : 156.82079302420152\n",
            "Day 28 : 157.90447767725527\n",
            "Day 29 : 158.86631341680913\n",
            "Day 30 : 159.6893248636552\n"
          ]
        }
      ]
    }
  ]
}